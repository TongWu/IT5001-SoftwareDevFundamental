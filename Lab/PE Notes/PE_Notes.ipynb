{
 "cells": [
  {
   "cell_type": "code",
   "execution_count": 24,
   "outputs": [],
   "source": [],
   "metadata": {
    "collapsed": false,
    "ExecuteTime": {
     "start_time": "2023-09-28T23:20:43.141396Z",
     "end_time": "2023-09-28T23:20:43.258742Z"
    }
   }
  },
  {
   "cell_type": "code",
   "execution_count": 24,
   "outputs": [],
   "source": [],
   "metadata": {
    "collapsed": false,
    "ExecuteTime": {
     "start_time": "2023-09-28T23:20:43.144510Z",
     "end_time": "2023-09-28T23:20:43.259776Z"
    }
   }
  },
  {
   "cell_type": "markdown",
   "source": [
    "# 10. Scaling a sequence\n",
    "## 10.1 map()\n",
    "**用途**：`map` 函数用于将指定函数应用于给定序列的每个元素。\n",
    "\n",
    "**语法**：\n",
    "\n",
    "```python\n",
    "map(function, iterable, ...)\n",
    "```\n",
    "\n",
    "- `function`: 是一个函数，将应用于每个项上。\n",
    "- `iterable`: 是一个或多个迭代对象。"
   ],
   "metadata": {
    "collapsed": false
   }
  },
  {
   "cell_type": "code",
   "execution_count": 25,
   "outputs": [
    {
     "name": "stdout",
     "output_type": "stream",
     "text": [
      "[1, 4, 9, 16]\n"
     ]
    }
   ],
   "source": [
    "def square(x):\n",
    "    return x*x\n",
    "\n",
    "numbers = [1, 2, 3, 4]\n",
    "result = map(square, numbers)\n",
    "print(list(result))  # 输出：[1, 4, 9, 16]"
   ],
   "metadata": {
    "collapsed": false,
    "ExecuteTime": {
     "start_time": "2023-09-28T23:20:43.148090Z",
     "end_time": "2023-09-28T23:20:43.259776Z"
    }
   }
  },
  {
   "cell_type": "markdown",
   "source": [
    "如果提供了多个迭代对象，则函数应该接受与迭代对象数相同的参数："
   ],
   "metadata": {
    "collapsed": false
   }
  },
  {
   "cell_type": "code",
   "execution_count": 26,
   "outputs": [
    {
     "name": "stdout",
     "output_type": "stream",
     "text": [
      "[5, 7, 9]\n"
     ]
    }
   ],
   "source": [
    "def add(x, y):\n",
    "    return x + y\n",
    "\n",
    "numbers1 = [1, 2, 3]\n",
    "numbers2 = [4, 5, 6]\n",
    "result = map(add, numbers1, numbers2)\n",
    "print(list(result))  # 输出：[5, 7, 9]"
   ],
   "metadata": {
    "collapsed": false,
    "ExecuteTime": {
     "start_time": "2023-09-28T23:20:43.155208Z",
     "end_time": "2023-09-28T23:20:43.259776Z"
    }
   }
  },
  {
   "cell_type": "markdown",
   "source": [
    "![image-20230928224306960](https://images.wu.engineer/images/2023/09/28/image-20230928224306960.png)\n",
    "\n",
    "![image-20230928224147334](https://images.wu.engineer/images/2023/09/28/image-20230928224147334.png)"
   ],
   "metadata": {
    "collapsed": false
   }
  },
  {
   "cell_type": "markdown",
   "source": [
    "## 10.2 filter()\n",
    "\n",
    "**用途**：`filter` 函数用于过滤序列，过滤掉不符合指定函数条件的元素。\n",
    "\n",
    "**语法**：\n",
    "\n",
    "```python\n",
    "filter(function, iterable)\n",
    "```\n",
    "\n",
    "- `function`: 是一个函数，返回值应为布尔值，指示元素是否应保留在结果中。\n",
    "- `iterable`: 是一个迭代对象。"
   ],
   "metadata": {
    "collapsed": false
   }
  },
  {
   "cell_type": "code",
   "execution_count": 27,
   "outputs": [
    {
     "name": "stdout",
     "output_type": "stream",
     "text": [
      "[2, 4, 6]\n"
     ]
    }
   ],
   "source": [
    "def is_even(x):\n",
    "    return x % 2 == 0\n",
    "\n",
    "numbers = [1, 2, 3, 4, 5, 6]\n",
    "result = filter(is_even, numbers)\n",
    "print(list(result))  # 输出：[2, 4, 6]"
   ],
   "metadata": {
    "collapsed": false,
    "ExecuteTime": {
     "start_time": "2023-09-28T23:20:43.165896Z",
     "end_time": "2023-09-28T23:20:43.385932Z"
    }
   }
  },
  {
   "cell_type": "markdown",
   "source": [
    "![image-20230928224131716](https://images.wu.engineer/images/2023/09/28/image-20230928224131716.png)"
   ],
   "metadata": {
    "collapsed": false
   }
  },
  {
   "cell_type": "markdown",
   "source": [
    "### 注意\n",
    "\n",
    "1. 在Python 3.x中，`map`和`filter`返回的都是迭代器，因此通常我们将它们转化为列表或元组来查看其内容。\n",
    "   - 返回迭代器意味着如果从迭代器中取出数值，那么这个数值就会真正的从此迭代器中‘取出’，即不再存在于迭代器中，不能二次取出\n",
    "2. `map`和`filter`都可以与匿名函数（`lambda` 函数）结合使用，使代码更简洁。例如："
   ],
   "metadata": {
    "collapsed": false
   }
  },
  {
   "cell_type": "code",
   "execution_count": 28,
   "outputs": [
    {
     "name": "stdout",
     "output_type": "stream",
     "text": [
      "[1, 4, 9, 16]\n",
      "[2, 4]\n"
     ]
    }
   ],
   "source": [
    "numbers = [1, 2, 3, 4]\n",
    "result = map(lambda x: x*x, numbers)\n",
    "print(list(result))  # 输出：[1, 4, 9, 16]\n",
    "\n",
    "result = filter(lambda x: x % 2 == 0, numbers)\n",
    "print(list(result))  # 输出：[2, 4]"
   ],
   "metadata": {
    "collapsed": false,
    "ExecuteTime": {
     "start_time": "2023-09-28T23:20:43.175605Z",
     "end_time": "2023-09-28T23:20:43.387462Z"
    }
   }
  },
  {
   "cell_type": "markdown",
   "source": [
    "# 10 Counting a sequence\n",
    "## 10.3 Shallowly counting"
   ],
   "metadata": {
    "collapsed": false
   }
  },
  {
   "cell_type": "code",
   "execution_count": 29,
   "outputs": [],
   "source": [
    "lst = [5,1,4,9,11,22,12,55]\n",
    "lst2 = [1,2,3,[4,5,6,7]]\n",
    "# Use len()\n",
    "len(lst) # output: 8\n",
    "len(lst2) # output: 4\n",
    "\n",
    "# Implement by self\n",
    "def ShallowlyCount(seq):\n",
    "\tif not seq:\n",
    "\t\treturn 0\n",
    "\treturn 1+ShallowlyCount(seq[1:])"
   ],
   "metadata": {
    "collapsed": false,
    "ExecuteTime": {
     "start_time": "2023-09-28T23:20:43.183239Z",
     "end_time": "2023-09-28T23:20:43.389099Z"
    }
   }
  },
  {
   "cell_type": "code",
   "execution_count": 30,
   "outputs": [
    {
     "data": {
      "text/plain": "8"
     },
     "execution_count": 30,
     "metadata": {},
     "output_type": "execute_result"
    }
   ],
   "source": [
    "ShallowlyCount(lst) # output: 8"
   ],
   "metadata": {
    "collapsed": false,
    "ExecuteTime": {
     "start_time": "2023-09-28T23:20:43.187280Z",
     "end_time": "2023-09-28T23:20:43.389099Z"
    }
   }
  },
  {
   "cell_type": "code",
   "execution_count": 31,
   "outputs": [
    {
     "data": {
      "text/plain": "4"
     },
     "execution_count": 31,
     "metadata": {},
     "output_type": "execute_result"
    }
   ],
   "source": [
    "ShallowlyCount(lst2) # output: 4"
   ],
   "metadata": {
    "collapsed": false,
    "ExecuteTime": {
     "start_time": "2023-09-28T23:20:43.192373Z",
     "end_time": "2023-09-28T23:20:43.414465Z"
    }
   }
  },
  {
   "cell_type": "markdown",
   "source": [
    "## 10.4 Deep counting\n",
    "\n",
    "- In shallowly count, each item has constant length 1\n",
    "- In deep count, the ‘length’ for each item may not be 1\n",
    "  - `[1,2,3,4]`, each item has a count 1\n",
    "  - `[[1,2],3,4]`, each item may not has a count 1\n",
    "- How to tell the first item is a sequence or not?\n",
    "- What to do if the first item is a sequence?"
   ],
   "metadata": {
    "collapsed": false
   }
  },
  {
   "cell_type": "code",
   "execution_count": 32,
   "outputs": [],
   "source": [
    "def DeepCount(seq):\n",
    "\tif seq == []:\n",
    "\t\treturn 0\n",
    "\telif type(seq) != list:\n",
    "\t\treturn 1\n",
    "\telse:\n",
    "\t\treturn DeepCount(seq[0]) + DeepCount(seq[1:])"
   ],
   "metadata": {
    "collapsed": false,
    "ExecuteTime": {
     "start_time": "2023-09-28T23:20:43.196486Z",
     "end_time": "2023-09-28T23:20:43.414465Z"
    }
   }
  },
  {
   "cell_type": "code",
   "execution_count": 33,
   "outputs": [
    {
     "data": {
      "text/plain": "8"
     },
     "execution_count": 33,
     "metadata": {},
     "output_type": "execute_result"
    }
   ],
   "source": [
    "DeepCount([[1,2,3,4],5,6,7,8])"
   ],
   "metadata": {
    "collapsed": false,
    "ExecuteTime": {
     "start_time": "2023-09-28T23:20:43.200540Z",
     "end_time": "2023-09-28T23:20:43.415496Z"
    }
   }
  },
  {
   "cell_type": "code",
   "execution_count": 34,
   "outputs": [
    {
     "data": {
      "text/plain": "8"
     },
     "execution_count": 34,
     "metadata": {},
     "output_type": "execute_result"
    }
   ],
   "source": [
    "DeepCount([[1,[2,3],4],[5],[[6,7]],8])"
   ],
   "metadata": {
    "collapsed": false,
    "ExecuteTime": {
     "start_time": "2023-09-28T23:20:43.205156Z",
     "end_time": "2023-09-28T23:20:43.415496Z"
    }
   }
  },
  {
   "cell_type": "markdown",
   "source": [
    "我们可以将deepcount转换为实用的其他函数，例如对一个list中的所有子元素（包含list中的list）平方，此为deepsquare函数"
   ],
   "metadata": {
    "collapsed": false
   }
  },
  {
   "cell_type": "code",
   "execution_count": 35,
   "outputs": [],
   "source": [
    "def deepSquare(seq):\n",
    "    if seq == []:\n",
    "        return seq\n",
    "    elif type(seq) != list:\n",
    "        return seq*seq\n",
    "    else:\n",
    "        return [deepSquare(seq[0])] + deepSquare(seq[1:])"
   ],
   "metadata": {
    "collapsed": false,
    "ExecuteTime": {
     "start_time": "2023-09-28T23:20:43.209714Z",
     "end_time": "2023-09-28T23:20:43.415496Z"
    }
   }
  },
  {
   "cell_type": "markdown",
   "source": [
    "为什么要返回一个 deepSquare(seq[0]) 的列表呢？\n",
    "\n",
    "实际上，我们并没有直接返回一个 deepSquare(seq[0]) 的列表。我们递归地计算 seq[0]（可能是数字，也可能是子列表）的深度平方值，并将其放入一个新列表中，然后与 seq[1:] 的深度平方值合并。"
   ],
   "metadata": {
    "collapsed": false
   }
  },
  {
   "cell_type": "code",
   "execution_count": 36,
   "outputs": [
    {
     "data": {
      "text/plain": "[[1, 4, 9, 16], 25, 36, 49, 64]"
     },
     "execution_count": 36,
     "metadata": {},
     "output_type": "execute_result"
    }
   ],
   "source": [
    "deepSquare([[1,2,3,4],5,6,7,8])"
   ],
   "metadata": {
    "collapsed": false,
    "ExecuteTime": {
     "start_time": "2023-09-28T23:20:43.214777Z",
     "end_time": "2023-09-28T23:20:43.426470Z"
    }
   }
  },
  {
   "cell_type": "markdown",
   "source": [
    "## 10.5 DeepMap\n",
    "即将先前提到的map函数转换为深度map函数，确保输入的list中的子元素和子元素的子元素都被相应的处理了"
   ],
   "metadata": {
    "collapsed": false
   }
  },
  {
   "cell_type": "code",
   "execution_count": 37,
   "outputs": [],
   "source": [
    "def deepMap(func, seq):\n",
    "    if seq == []:\n",
    "        return seq\n",
    "    elif type(seq) != list:\n",
    "        return func(seq)\n",
    "    else:\n",
    "        return [deepMap(func, seq[0])] + deepMap(func, seq[1:])"
   ],
   "metadata": {
    "collapsed": false,
    "ExecuteTime": {
     "start_time": "2023-09-28T23:20:43.218788Z",
     "end_time": "2023-09-28T23:20:43.427477Z"
    }
   }
  },
  {
   "cell_type": "code",
   "execution_count": 38,
   "outputs": [
    {
     "data": {
      "text/plain": "[[1, 4, 9, 16], 25, 36, 49, 64]"
     },
     "execution_count": 38,
     "metadata": {},
     "output_type": "execute_result"
    }
   ],
   "source": [
    "def square(value):\n",
    "    return value ** 2\n",
    "deepMap(square, [[1,2,3,4],5,6,7,8])"
   ],
   "metadata": {
    "collapsed": false,
    "ExecuteTime": {
     "start_time": "2023-09-28T23:20:43.224379Z",
     "end_time": "2023-09-28T23:20:43.428494Z"
    }
   }
  },
  {
   "cell_type": "code",
   "execution_count": 39,
   "outputs": [
    {
     "data": {
      "text/plain": "[[0.5, 1.0, 1.5, 2.0], 2.5, 3.0, 3.5, 4.0]"
     },
     "execution_count": 39,
     "metadata": {},
     "output_type": "execute_result"
    }
   ],
   "source": [
    "deepMap(lambda x:x/2, [[1,2,3,4],5,6,7,8])"
   ],
   "metadata": {
    "collapsed": false,
    "ExecuteTime": {
     "start_time": "2023-09-28T23:20:43.228967Z",
     "end_time": "2023-09-28T23:20:43.429511Z"
    }
   }
  },
  {
   "cell_type": "markdown",
   "source": [
    "## 10.6 Shallow copy"
   ],
   "metadata": {
    "collapsed": false
   }
  },
  {
   "cell_type": "code",
   "execution_count": 40,
   "outputs": [
    {
     "data": {
      "text/plain": "[[1, 2, 3, 4], 5, 6, 7, 8]"
     },
     "execution_count": 40,
     "metadata": {},
     "output_type": "execute_result"
    }
   ],
   "source": [
    "l = [[1,2,3,4],5,6,7,8]\n",
    "l2 = l.copy()\n",
    "l2"
   ],
   "metadata": {
    "collapsed": false,
    "ExecuteTime": {
     "start_time": "2023-09-28T23:20:43.234614Z",
     "end_time": "2023-09-28T23:20:43.429511Z"
    }
   }
  },
  {
   "cell_type": "code",
   "execution_count": 41,
   "outputs": [
    {
     "data": {
      "text/plain": "[[999, 2, 3, 4], 5, 6, 7, 8]"
     },
     "execution_count": 41,
     "metadata": {},
     "output_type": "execute_result"
    }
   ],
   "source": [
    "l2[0][0] = 999\n",
    "l2"
   ],
   "metadata": {
    "collapsed": false,
    "ExecuteTime": {
     "start_time": "2023-09-28T23:20:43.238731Z",
     "end_time": "2023-09-28T23:20:43.431550Z"
    }
   }
  },
  {
   "cell_type": "code",
   "execution_count": 42,
   "outputs": [
    {
     "data": {
      "text/plain": "[[999, 2, 3, 4], 5, 6, 7, 8]"
     },
     "execution_count": 42,
     "metadata": {},
     "output_type": "execute_result"
    }
   ],
   "source": [
    "l"
   ],
   "metadata": {
    "collapsed": false,
    "ExecuteTime": {
     "start_time": "2023-09-28T23:20:43.243312Z",
     "end_time": "2023-09-28T23:20:43.431550Z"
    }
   }
  },
  {
   "cell_type": "markdown",
   "source": [
    "It is a shallow copy"
   ],
   "metadata": {
    "collapsed": false
   }
  },
  {
   "cell_type": "markdown",
   "source": [
    "## 10.7 Deep copy"
   ],
   "metadata": {
    "collapsed": false
   }
  },
  {
   "cell_type": "code",
   "execution_count": 43,
   "outputs": [
    {
     "data": {
      "text/plain": "[[1, 2, 3, 4], 5, 6, 7, 8]"
     },
     "execution_count": 43,
     "metadata": {},
     "output_type": "execute_result"
    }
   ],
   "source": [
    "l = [[1,2,3,4],5,6,7,8]\n",
    "l2 = deepMap(lambda x:x.copy() if type(x)==list else x, l)\n",
    "l2"
   ],
   "metadata": {
    "collapsed": false,
    "ExecuteTime": {
     "start_time": "2023-09-28T23:20:43.248886Z",
     "end_time": "2023-09-28T23:20:43.431550Z"
    }
   }
  },
  {
   "cell_type": "code",
   "execution_count": 44,
   "outputs": [
    {
     "data": {
      "text/plain": "[[999, 2, 3, 4], 5, 6, 7, 8]"
     },
     "execution_count": 44,
     "metadata": {},
     "output_type": "execute_result"
    }
   ],
   "source": [
    "l[0][0] = 999\n",
    "l"
   ],
   "metadata": {
    "collapsed": false,
    "ExecuteTime": {
     "start_time": "2023-09-28T23:20:43.253135Z",
     "end_time": "2023-09-28T23:20:43.452015Z"
    }
   }
  },
  {
   "cell_type": "code",
   "execution_count": 45,
   "outputs": [
    {
     "data": {
      "text/plain": "[[1, 2, 3, 4], 5, 6, 7, 8]"
     },
     "execution_count": 45,
     "metadata": {},
     "output_type": "execute_result"
    }
   ],
   "source": [
    "l2"
   ],
   "metadata": {
    "collapsed": false,
    "ExecuteTime": {
     "start_time": "2023-09-28T23:20:43.259259Z",
     "end_time": "2023-09-28T23:20:43.455559Z"
    }
   }
  },
  {
   "cell_type": "markdown",
   "source": [
    "## 10.8 flatten()\n",
    "\n",
    "Given a nested list, output a list with all the element but without any sub-lists"
   ],
   "metadata": {
    "collapsed": false
   }
  },
  {
   "cell_type": "code",
   "execution_count": 46,
   "outputs": [
    {
     "data": {
      "text/plain": "[1, 2, 3, 4, 5, 6, 7, 8]"
     },
     "execution_count": 46,
     "metadata": {},
     "output_type": "execute_result"
    }
   ],
   "source": [
    "l = [[1,2,3,4],5,6,7,8]\n",
    "def flatten(seq):\n",
    "    if seq == []:\n",
    "        return seq\n",
    "    elif type(seq) != list:\n",
    "        return [seq]\n",
    "    else:\n",
    "        return flatten(seq[0]) + flatten(seq[1:])\n",
    "flatten(l)"
   ],
   "metadata": {
    "collapsed": false,
    "ExecuteTime": {
     "start_time": "2023-09-28T23:20:43.264864Z",
     "end_time": "2023-09-28T23:20:43.455559Z"
    }
   }
  },
  {
   "cell_type": "markdown",
   "source": [
    "# 11. Multi-dimensional array"
   ],
   "metadata": {
    "collapsed": false
   }
  },
  {
   "cell_type": "code",
   "execution_count": 47,
   "outputs": [],
   "source": [
    "m = [[1,2], [3,4]]"
   ],
   "metadata": {
    "collapsed": false,
    "ExecuteTime": {
     "start_time": "2023-09-28T23:23:39.535212Z",
     "end_time": "2023-09-28T23:23:39.564870Z"
    }
   }
  },
  {
   "cell_type": "code",
   "execution_count": 55,
   "outputs": [
    {
     "name": "stdout",
     "output_type": "stream",
     "text": [
      "1 2 3 4\n"
     ]
    }
   ],
   "source": [
    "print(m[0][0], m[0][1], m[1][0], m[1][1])"
   ],
   "metadata": {
    "collapsed": false,
    "ExecuteTime": {
     "start_time": "2023-09-28T23:25:04.194962Z",
     "end_time": "2023-09-28T23:25:04.220163Z"
    }
   }
  },
  {
   "cell_type": "markdown",
   "source": [
    "## 11.1 Create an N*N identical matrix"
   ],
   "metadata": {
    "collapsed": false
   }
  },
  {
   "cell_type": "code",
   "execution_count": 58,
   "outputs": [
    {
     "name": "stdout",
     "output_type": "stream",
     "text": [
      "[[1, 0, 0, 0, 0, 0, 0, 0, 0, 0],\n",
      " [0, 1, 0, 0, 0, 0, 0, 0, 0, 0],\n",
      " [0, 0, 1, 0, 0, 0, 0, 0, 0, 0],\n",
      " [0, 0, 0, 1, 0, 0, 0, 0, 0, 0],\n",
      " [0, 0, 0, 0, 1, 0, 0, 0, 0, 0],\n",
      " [0, 0, 0, 0, 0, 1, 0, 0, 0, 0],\n",
      " [0, 0, 0, 0, 0, 0, 1, 0, 0, 0],\n",
      " [0, 0, 0, 0, 0, 0, 0, 1, 0, 0],\n",
      " [0, 0, 0, 0, 0, 0, 0, 0, 1, 0],\n",
      " [0, 0, 0, 0, 0, 0, 0, 0, 0, 1]]\n"
     ]
    }
   ],
   "source": [
    "from pprint import pprint\n",
    "\n",
    "\n",
    "def identityMatrix(N):\n",
    "    output = []\n",
    "    for i in range(N):\n",
    "        row = []\n",
    "        for j in range(N):\n",
    "            row.append(1 if i==j else 0)\n",
    "        output.append(row)\n",
    "    return output\n",
    "\n",
    "pprint(identityMatrix(10))"
   ],
   "metadata": {
    "collapsed": false,
    "ExecuteTime": {
     "start_time": "2023-09-28T23:27:13.606944Z",
     "end_time": "2023-09-28T23:27:13.609531Z"
    }
   }
  },
  {
   "cell_type": "markdown",
   "source": [
    "![image-20230928232744887](https://images.wu.engineer/images/2023/09/28/image-20230928232744887.png)"
   ],
   "metadata": {
    "collapsed": false
   }
  },
  {
   "cell_type": "markdown",
   "source": [
    "## 11.2 Just want print 0 and 1"
   ],
   "metadata": {
    "collapsed": false
   }
  },
  {
   "cell_type": "code",
   "execution_count": 59,
   "outputs": [
    {
     "name": "stdout",
     "output_type": "stream",
     "text": [
      "1000000000\n",
      "0100000000\n",
      "0010000000\n",
      "0001000000\n",
      "0000100000\n",
      "0000010000\n",
      "0000001000\n",
      "0000000100\n",
      "0000000010\n",
      "0000000001\n"
     ]
    }
   ],
   "source": [
    "def mTightPrint(m):\n",
    "    for i in range(len(m)):\n",
    "        line = ''\n",
    "        for j in range(len(m[0])):\n",
    "            line += str(m[i][j])\n",
    "        print(line)\n",
    "m1 = identityMatrix(10)\n",
    "mTightPrint(m1)"
   ],
   "metadata": {
    "collapsed": false,
    "ExecuteTime": {
     "start_time": "2023-09-28T23:29:45.257646Z",
     "end_time": "2023-09-28T23:29:45.283872Z"
    }
   }
  },
  {
   "cell_type": "markdown",
   "source": [
    "## 11.3 Create an R*C zero matrix"
   ],
   "metadata": {
    "collapsed": false
   }
  },
  {
   "cell_type": "code",
   "execution_count": 60,
   "outputs": [
    {
     "data": {
      "text/plain": "[[0, 0, 0, 0, 0, 0, 0, 0, 0],\n [0, 0, 0, 0, 0, 0, 0, 0, 0],\n [0, 0, 0, 0, 0, 0, 0, 0, 0],\n [0, 0, 0, 0, 0, 0, 0, 0, 0]]"
     },
     "execution_count": 60,
     "metadata": {},
     "output_type": "execute_result"
    }
   ],
   "source": [
    "def createZeroMatrix(r,c):\n",
    "    output = []\n",
    "    for i in range(r):\n",
    "        row = []\n",
    "        for j in range(c):\n",
    "            row.append(0)\n",
    "        output.append(row)\n",
    "    return output\n",
    "\n",
    "m = createZeroMatrix(4, 9)\n",
    "m"
   ],
   "metadata": {
    "collapsed": false,
    "ExecuteTime": {
     "start_time": "2023-09-28T23:31:13.585881Z",
     "end_time": "2023-09-28T23:31:13.619011Z"
    }
   }
  },
  {
   "cell_type": "code",
   "execution_count": 61,
   "outputs": [
    {
     "name": "stdout",
     "output_type": "stream",
     "text": [
      "[[0, 0, 0, 0, 0, 0, 0, 0, 0],\n",
      " [0, 0, 0, 0, 0, 0, 0, 0, 0],\n",
      " [0, 0, 0, 0, 0, 0, 0, 0, 0],\n",
      " [0, 0, 0, 0, 0, 0, 0, 0, 0]]\n"
     ]
    }
   ],
   "source": [
    "pprint(m)"
   ],
   "metadata": {
    "collapsed": false,
    "ExecuteTime": {
     "start_time": "2023-09-28T23:31:20.095644Z",
     "end_time": "2023-09-28T23:31:20.137801Z"
    }
   }
  },
  {
   "cell_type": "markdown",
   "source": [
    "## 11.4 Matrix addition"
   ],
   "metadata": {
    "collapsed": false
   }
  },
  {
   "cell_type": "code",
   "execution_count": 62,
   "outputs": [],
   "source": [
    "def sumMatrices(m1, m2): # Assuming m1 and m2 have same number of r and c\n",
    "    r = len(m1)\n",
    "    c = len(m1[0])\n",
    "    output = createZeroMatrix(r,c)\n",
    "    for i in range(r):\n",
    "        for j in range(c):\n",
    "            output[i][j] = m1[i][j] + m2[i][j]\n",
    "    return output"
   ],
   "metadata": {
    "collapsed": false,
    "ExecuteTime": {
     "start_time": "2023-09-28T23:33:32.540798Z",
     "end_time": "2023-09-28T23:33:32.571385Z"
    }
   }
  },
  {
   "cell_type": "markdown",
   "source": [
    "# 12. OOP"
   ],
   "metadata": {
    "collapsed": false
   }
  },
  {
   "cell_type": "markdown",
   "source": [
    "### class:\n",
    "使用class关键字定义一个类，后跟类名和冒号。类名通常采用驼峰命名法。\n",
    "```python\n",
    "class MyClass:\n",
    "    pass\n",
    "```\n",
    "### instance:\n",
    "- A particular object or entity of a given class\n",
    "- A concrete, usable object created from the blueprint\n",
    "类的对象或实例是根据类定义创建的实体。可以使用类名和括号来创建它，就像调用函数一样。\n",
    "```python\n",
    "obj = MyClass(\"Some value\")\n",
    "```\n",
    "\n",
    "### attribute:\n",
    "属性是与对象关联的变量。它们表示对象的状态或数据。\n",
    "\n",
    "类中可以有两种类型的属性：实例属性和类属性。\n",
    "\n",
    "实例属性：与特定的对象实例关联。每个对象实例都可以有其自己的值。\n",
    "\n",
    "```python\n",
    "class MyClass:\n",
    "    def __init__(self, value):\n",
    "        self.instance_attribute = value\n",
    "```\n",
    "类属性：与类自身关联，而不是实例。所有对象实例共享同一个类属性。\n",
    "\n",
    "```python\n",
    "class MyClass:\n",
    "    class_attribute = \"I'm a class attribute\"\n",
    "```\n",
    "### method:\n",
    "方法是与对象关联的函数，定义了对象可以执行的操作。\n",
    "类的方法需要至少一个参数，通常命名为self，它引用对象实例本身。\n",
    "```python\n",
    "class MyClass:\n",
    "    def my_method(self):\n",
    "        print(\"This is a method!\")\n",
    "```\n",
    "\n",
    "### 构造函数 __init__:\n",
    "\n",
    "当创建类的新对象时，__init__ 方法会自动调用。它常用于初始化对象的属性。\n",
    "```python\n",
    "class MyClass:\n",
    "    def __init__(self, value):\n",
    "        self.attribute = value\n",
    "```\n"
   ],
   "metadata": {
    "collapsed": false
   }
  },
  {
   "cell_type": "code",
   "execution_count": 69,
   "outputs": [],
   "source": [
    "class StudentRecord():\n",
    "    # __init__ 函数类似于C++中的构造函数，当创建类的新对象时，构造函数会自动调用。\n",
    "    def __init__(self):\n",
    "        self.name = ''\n",
    "        self.sn = ''\n",
    "        self.gender = ''\n",
    "        self.year = 0\n",
    "        self.eng = 0\n",
    "        self.math = 0\n",
    "        self.sci = 0\n",
    "        self.ss = 0"
   ],
   "metadata": {
    "collapsed": false,
    "ExecuteTime": {
     "start_time": "2023-09-28T23:50:56.494600Z",
     "end_time": "2023-09-28T23:50:56.502709Z"
    }
   }
  },
  {
   "cell_type": "markdown",
   "source": [
    "- In a student record, we want to store name, student number...\n",
    "    - These are created automatically using the class above if a new object is created"
   ],
   "metadata": {
    "collapsed": false
   }
  },
  {
   "cell_type": "code",
   "execution_count": 70,
   "outputs": [
    {
     "data": {
      "text/plain": "''"
     },
     "execution_count": 70,
     "metadata": {},
     "output_type": "execute_result"
    }
   ],
   "source": [
    "alan = StudentRecord()\n",
    "alan.name"
   ],
   "metadata": {
    "collapsed": false,
    "ExecuteTime": {
     "start_time": "2023-09-28T23:51:24.656981Z",
     "end_time": "2023-09-28T23:51:24.692893Z"
    }
   }
  },
  {
   "cell_type": "markdown",
   "source": [
    "## 12.1 Store values into an instance"
   ],
   "metadata": {
    "collapsed": false
   }
  },
  {
   "cell_type": "code",
   "execution_count": 71,
   "outputs": [],
   "source": [
    "alan.name = 'Alan'\n",
    "alan.sn = 'A1000001A'\n",
    "alan.gender = 'M'\n",
    "alan.eng = 90\n",
    "alan.math = 100\n",
    "alan.sci = 80\n",
    "alan.ss = 10"
   ],
   "metadata": {
    "collapsed": false,
    "ExecuteTime": {
     "start_time": "2023-09-28T23:53:09.308546Z",
     "end_time": "2023-09-28T23:53:09.342894Z"
    }
   }
  },
  {
   "cell_type": "markdown",
   "source": [
    "## 12.2 Initialization the object through constructor"
   ],
   "metadata": {
    "collapsed": false
   }
  },
  {
   "cell_type": "code",
   "execution_count": 72,
   "outputs": [],
   "source": [
    "class BankAccount():\n",
    "    def __init__(self, name, balance):\n",
    "        self.name = name\n",
    "        self.balance = balance"
   ],
   "metadata": {
    "collapsed": false,
    "ExecuteTime": {
     "start_time": "2023-09-28T23:54:47.979568Z",
     "end_time": "2023-09-28T23:54:48.010939Z"
    }
   }
  },
  {
   "cell_type": "code",
   "execution_count": 77,
   "outputs": [],
   "source": [
    "myAcc = BankAccount('Alan', 1000)\n",
    "johnAcc = BankAccount('John Wick', 100000000)"
   ],
   "metadata": {
    "collapsed": false,
    "ExecuteTime": {
     "start_time": "2023-09-28T23:56:03.573203Z",
     "end_time": "2023-09-28T23:56:03.576268Z"
    }
   }
  },
  {
   "cell_type": "code",
   "execution_count": 78,
   "outputs": [
    {
     "data": {
      "text/plain": "'Alan'"
     },
     "execution_count": 78,
     "metadata": {},
     "output_type": "execute_result"
    }
   ],
   "source": [
    "myAcc.name"
   ],
   "metadata": {
    "collapsed": false,
    "ExecuteTime": {
     "start_time": "2023-09-28T23:56:03.901591Z",
     "end_time": "2023-09-28T23:56:03.904953Z"
    }
   }
  },
  {
   "cell_type": "code",
   "execution_count": 79,
   "outputs": [
    {
     "data": {
      "text/plain": "1000"
     },
     "execution_count": 79,
     "metadata": {},
     "output_type": "execute_result"
    }
   ],
   "source": [
    "myAcc.balance"
   ],
   "metadata": {
    "collapsed": false,
    "ExecuteTime": {
     "start_time": "2023-09-28T23:56:04.214359Z",
     "end_time": "2023-09-28T23:56:04.219898Z"
    }
   }
  },
  {
   "cell_type": "code",
   "execution_count": 80,
   "outputs": [
    {
     "data": {
      "text/plain": "1999"
     },
     "execution_count": 80,
     "metadata": {},
     "output_type": "execute_result"
    }
   ],
   "source": [
    "myAcc.balance += 999\n",
    "myAcc.balance"
   ],
   "metadata": {
    "collapsed": false,
    "ExecuteTime": {
     "start_time": "2023-09-28T23:56:04.656657Z",
     "end_time": "2023-09-28T23:56:04.659702Z"
    }
   }
  },
  {
   "cell_type": "code",
   "execution_count": 81,
   "outputs": [
    {
     "data": {
      "text/plain": "-8001"
     },
     "execution_count": 81,
     "metadata": {},
     "output_type": "execute_result"
    }
   ],
   "source": [
    "myAcc.balance -= 10000\n",
    "myAcc.balance"
   ],
   "metadata": {
    "collapsed": false,
    "ExecuteTime": {
     "start_time": "2023-09-28T23:56:22.345048Z",
     "end_time": "2023-09-28T23:56:22.385477Z"
    }
   }
  },
  {
   "cell_type": "markdown",
   "source": [
    "## 12.3 Method\n",
    "\n",
    "How to prevent the account balance below than 0?"
   ],
   "metadata": {
    "collapsed": false
   }
  },
  {
   "cell_type": "code",
   "execution_count": 82,
   "outputs": [],
   "source": [
    "class BankAccount():\n",
    "    def __init__(self, name, balance):\n",
    "        self.name = name\n",
    "        self.balance = balance\n",
    "    def withdraw(self, amount):\n",
    "        if self.balance < amount:\n",
    "            print(f\"Money not enough! You do not have ${amount}\")\n",
    "            return 0\n",
    "        else:\n",
    "            self.balance -= amount\n",
    "            return amount\n",
    "    def showBalance(self):\n",
    "        print(f'Your balance is ${self.balance}')"
   ],
   "metadata": {
    "collapsed": false,
    "ExecuteTime": {
     "start_time": "2023-09-28T23:58:34.630128Z",
     "end_time": "2023-09-28T23:58:34.668118Z"
    }
   }
  },
  {
   "cell_type": "code",
   "execution_count": 83,
   "outputs": [
    {
     "name": "stdout",
     "output_type": "stream",
     "text": [
      "Your balance is $1000\n"
     ]
    }
   ],
   "source": [
    "myAcc = BankAccount('Alan', 1000)\n",
    "myAcc.showBalance()"
   ],
   "metadata": {
    "collapsed": false,
    "ExecuteTime": {
     "start_time": "2023-09-28T23:58:48.572261Z",
     "end_time": "2023-09-28T23:58:48.613127Z"
    }
   }
  },
  {
   "cell_type": "code",
   "execution_count": 84,
   "outputs": [
    {
     "data": {
      "text/plain": "123"
     },
     "execution_count": 84,
     "metadata": {},
     "output_type": "execute_result"
    }
   ],
   "source": [
    "myAcc.withdraw(123)"
   ],
   "metadata": {
    "collapsed": false,
    "ExecuteTime": {
     "start_time": "2023-09-28T23:58:54.999119Z",
     "end_time": "2023-09-28T23:58:55.042099Z"
    }
   }
  },
  {
   "cell_type": "code",
   "execution_count": 85,
   "outputs": [
    {
     "name": "stdout",
     "output_type": "stream",
     "text": [
      "Your balance is $877\n"
     ]
    }
   ],
   "source": [
    "myAcc.showBalance()"
   ],
   "metadata": {
    "collapsed": false,
    "ExecuteTime": {
     "start_time": "2023-09-28T23:59:01.138804Z",
     "end_time": "2023-09-28T23:59:01.176527Z"
    }
   }
  },
  {
   "cell_type": "code",
   "execution_count": 86,
   "outputs": [
    {
     "name": "stdout",
     "output_type": "stream",
     "text": [
      "Money not enough! You do not have $99999\n"
     ]
    },
    {
     "data": {
      "text/plain": "0"
     },
     "execution_count": 86,
     "metadata": {},
     "output_type": "execute_result"
    }
   ],
   "source": [
    "myAcc.withdraw(99999)"
   ],
   "metadata": {
    "collapsed": false,
    "ExecuteTime": {
     "start_time": "2023-09-28T23:59:09.382184Z",
     "end_time": "2023-09-28T23:59:09.422522Z"
    }
   }
  },
  {
   "cell_type": "markdown",
   "source": [
    "## 12.4 Inheritance\n",
    "\n",
    "一个类可以继承另一个类的属性和方法，使代码重用变得简单。\n",
    "```python\n",
    "class ParentClass:\n",
    "    pass\n",
    "\n",
    "class ChildClass(ParentClass):\n",
    "    pass\n",
    "```\n"
   ],
   "metadata": {
    "collapsed": false
   }
  },
  {
   "cell_type": "code",
   "execution_count": 87,
   "outputs": [],
   "source": [
    "class Vehicle:\n",
    "    def __init__(self, pos):\n",
    "        self.pos = pos\n",
    "        self.velocity = (0,0)\n",
    "    def setVelocity(self, vx, vy):\n",
    "        self.velocity = (vx, vy)\n",
    "    def move(self):\n",
    "        self.pos = (self.pos[0] + self.velocity[0], self.pos[1] + self.velocity[1])\n",
    "        print(f\"Move to {self.pos}\")\n",
    "\n",
    "class Sportscar(Vehicle):\n",
    "    def turnOnTurbo(self):\n",
    "        print(\"VROOOOOOM...\")\n",
    "        self.velocity = (self.velocity[0]*2, self.velocity[1]*2)\n",
    "        print(f'Velocity increased to {self.velocity}')"
   ],
   "metadata": {
    "collapsed": false,
    "ExecuteTime": {
     "start_time": "2023-09-29T00:04:04.884908Z",
     "end_time": "2023-09-29T00:04:04.931424Z"
    }
   }
  },
  {
   "cell_type": "markdown",
   "source": [
    "### 12.4.1 Change the initialization of the inheritance\n",
    "\n",
    "1. Overriding. Redefining the method will override the one in Vehicle\n",
    "2. Calling super class. Redefine a constructor, but call the constructor in super() (Vehicle class) instead"
   ],
   "metadata": {
    "collapsed": false
   }
  },
  {
   "cell_type": "code",
   "execution_count": 88,
   "outputs": [],
   "source": [
    "class Lorry(Vehicle):\n",
    "    # Overriding\n",
    "    def __init__(self, pos):\n",
    "        self.pos = pos\n",
    "        self.velocity = (0,0)\n",
    "        self.cargo = []"
   ],
   "metadata": {
    "collapsed": false,
    "ExecuteTime": {
     "start_time": "2023-09-29T00:06:30.346799Z",
     "end_time": "2023-09-29T00:06:30.386984Z"
    }
   }
  },
  {
   "cell_type": "code",
   "execution_count": 89,
   "outputs": [],
   "source": [
    "class Lorry(Vehicle):\n",
    "    # Call super class\n",
    "    def __init__(self, pos):\n",
    "        super().__init__(pos)\n",
    "        self.cargo = []"
   ],
   "metadata": {
    "collapsed": false,
    "ExecuteTime": {
     "start_time": "2023-09-29T00:07:15.995026Z",
     "end_time": "2023-09-29T00:07:16.042461Z"
    }
   }
  },
  {
   "cell_type": "markdown",
   "source": [
    "super() 函数在Python中用于调用父类（或超类）的方法。它常用于两种情况：覆盖类方法时，以及多重继承中。使用 super() 可以确保父类中的适当方法被调用，特别是在存在多个继承层次或多重继承的情况下。\n",
    "\n",
    "为什么要使用 super()?\n",
    "当你在子类中重写某个方法，但仍然希望调用父类中的原始版本时，super() 就派上用场了。最常见的情况是在子类的 __init__ 方法中，你可能希望扩展或修改父类的初始化行为，而不是完全替换它。\n",
    "\n",
    "在条件允许的情况下，优先使用super函数而不是重载"
   ],
   "metadata": {
    "collapsed": false
   }
  },
  {
   "cell_type": "markdown",
   "source": [
    "## 12.5 Private methods"
   ],
   "metadata": {
    "collapsed": false
   }
  },
  {
   "cell_type": "code",
   "execution_count": 99,
   "outputs": [
    {
     "name": "stdout",
     "output_type": "stream",
     "text": [
      "private\n"
     ]
    }
   ],
   "source": [
    "class test:\n",
    "    def __init__(self):\n",
    "        pass\n",
    "    def __privateThings(self):\n",
    "        print(\"private\")\n",
    "        pass\n",
    "\n",
    "test_object = test()\n",
    "test_object.__privateThings() # Add underscore to access the private method"
   ],
   "metadata": {
    "collapsed": false,
    "ExecuteTime": {
     "start_time": "2023-09-29T00:17:50.868283Z",
     "end_time": "2023-09-29T00:17:50.883658Z"
    }
   }
  },
  {
   "cell_type": "markdown",
   "source": [
    "# 13. Searching"
   ],
   "metadata": {
    "collapsed": false
   }
  },
  {
   "cell_type": "markdown",
   "source": [
    "## 13.1 Binary Search\n",
    "\n",
    "1. Find the middle element\n",
    "2. If it is we are looking for, return True\n",
    "3. A) If our key is smaller than the middle element, repeat search on the left of the element\n",
    "   B) Else, repeat search on the right of the element"
   ],
   "metadata": {
    "collapsed": false
   }
  },
  {
   "cell_type": "code",
   "execution_count": 102,
   "outputs": [],
   "source": [
    "def binary_search(key, seq):\n",
    "    if seq == []:\n",
    "        return False\n",
    "    mid = len(seq) // 2\n",
    "    if key == seq[mid]:\n",
    "        return True\n",
    "    elif key < seq[mid]:\n",
    "        return binary_search(key, seq[:mid])\n",
    "    else:\n",
    "        return binary_search(key, seq[mid+1:])"
   ],
   "metadata": {
    "collapsed": false,
    "ExecuteTime": {
     "start_time": "2023-09-29T00:22:12.650566Z",
     "end_time": "2023-09-29T00:22:12.654712Z"
    }
   }
  },
  {
   "cell_type": "code",
   "execution_count": 103,
   "outputs": [],
   "source": [
    "def search(self, nums, target):\n",
    "    left = 0\n",
    "    right = len(nums) - 1\n",
    "    while left<=right:\n",
    "      # Declare a pointer in the middle of the array\n",
    "      mid = (right + left) // 2\n",
    "      if nums[mid] == target:\n",
    "        return mid\n",
    "      elif nums[mid] > target:\n",
    "        right = mid - 1\n",
    "      else:\n",
    "        left = mid + 1\n",
    "\n",
    "    return -1"
   ],
   "metadata": {
    "collapsed": false,
    "ExecuteTime": {
     "start_time": "2023-09-29T00:23:36.078368Z",
     "end_time": "2023-09-29T00:23:36.127009Z"
    }
   }
  },
  {
   "cell_type": "markdown",
   "source": [
    "## 13.2 Selection Sort\n",
    "Selection sort（选择排序）是一种简单的比较排序算法。它的工作原理是将列表分为两部分：一部分是已经排序的，另一部分是未排序的。在每一次迭代中，它都从未排序的部分找到最小（或最大，取决于排序方向）的元素，并将其移到已排序部分的末尾。这个过程一直持续到整个列表都被排序。\n",
    "\n",
    "算法步骤：\n",
    "开始时，假设第一个元素是最小的。\n",
    "遍历未排序的部分，找到最小的元素。\n",
    "将找到的最小元素与第一个未排序的元素交换。\n",
    "移动到下一个元素并重复以上过程，直到整个列表都已经排序。"
   ],
   "metadata": {
    "collapsed": false
   }
  },
  {
   "cell_type": "code",
   "execution_count": 105,
   "outputs": [
    {
     "name": "stdout",
     "output_type": "stream",
     "text": [
      "[4, 12, 3, 11]\n",
      "[4, 12, 11]\n",
      "[12, 11]\n",
      "[12]\n",
      "[]\n"
     ]
    },
    {
     "data": {
      "text/plain": "[1, 3, 4, 11, 12]"
     },
     "execution_count": 105,
     "metadata": {},
     "output_type": "execute_result"
    }
   ],
   "source": [
    "a = [4,12,3,1,11]\n",
    "sort = []\n",
    "while a:\n",
    "    smallest = a[0]\n",
    "    for element in a:\n",
    "        if element < smallest:\n",
    "            smallest = element\n",
    "    a.remove(smallest)\n",
    "    sort.append(smallest)\n",
    "    print(a)\n",
    "sort"
   ],
   "metadata": {
    "collapsed": false,
    "ExecuteTime": {
     "start_time": "2023-09-29T00:27:21.608880Z",
     "end_time": "2023-09-29T00:27:21.618153Z"
    }
   }
  },
  {
   "cell_type": "markdown",
   "source": [
    "## 13.3 Merge Sort\n",
    "\n",
    "Merge sort（合并排序）是一种递归的分治排序算法，它将一个列表分成两个半部分，对每一部分进行排序，然后将结果合并以产生一个单一的排序列表。该算法是稳定的，这意味着相同值的元素将保持其在输入中的相对顺序。\n",
    "\n",
    "算法步骤：\n",
    "分解：如果列表中只有一个元素，则它已经是排序的。否则，将列表分成两个或更多的子列表。\n",
    "解决：使用合并排序递归地排序每个子列表。\n",
    "合并：将两个排序后的子列表合并为一个单一的排序列表"
   ],
   "metadata": {
    "collapsed": false
   }
  },
  {
   "cell_type": "code",
   "execution_count": 106,
   "outputs": [],
   "source": [
    "def merge(left, right):\n",
    "    results = []\n",
    "    while left and right:\n",
    "        if left[0] < right[0]:\n",
    "            results.append(left.pop(0))\n",
    "        else:\n",
    "            results.append(right.pop(0))\n",
    "    results.extend(left)\n",
    "    results.extend(right)\n",
    "    return results\n",
    "\n",
    "def merge_sort(lst):\n",
    "    if len(lst) < 2:\n",
    "        return lst\n",
    "    mid = len(lst) // 2\n",
    "    left = merge_sort(lst[:mid])\n",
    "    right = merge_sort(lst[mid:])\n",
    "    return merge(left, right)"
   ],
   "metadata": {
    "collapsed": false,
    "ExecuteTime": {
     "start_time": "2023-09-29T00:30:43.967905Z",
     "end_time": "2023-09-29T00:30:44.025554Z"
    }
   }
  },
  {
   "cell_type": "markdown",
   "source": [
    "# 14. Optimization"
   ],
   "metadata": {
    "collapsed": false
   }
  },
  {
   "cell_type": "markdown",
   "source": [
    "## Memoization"
   ],
   "metadata": {
    "collapsed": false
   }
  },
  {
   "cell_type": "code",
   "execution_count": 107,
   "outputs": [],
   "source": [
    "# Create a dictionary to remember the answer if fibm(n) is computed before\n",
    "fibans = {}\n",
    "def fibm(n):\n",
    "    # If the answer was computed before, get the answer from the dict\n",
    "    if n in fibans.keys():\n",
    "        return fibans[n]\n",
    "    if n==0:\n",
    "        ans = 0\n",
    "    elif n==1:\n",
    "        ans = 1\n",
    "    else:\n",
    "        ans = fibm(n-1) + fibm(n-2)\n",
    "    # Otherwise, compute the answer and put it into the dict\n",
    "    fibans[n] = ans\n",
    "    return ans"
   ],
   "metadata": {
    "collapsed": false,
    "ExecuteTime": {
     "start_time": "2023-09-29T00:35:03.879965Z",
     "end_time": "2023-09-29T00:35:03.929850Z"
    }
   }
  },
  {
   "cell_type": "code",
   "execution_count": 108,
   "outputs": [],
   "source": [
    "def fibi(n):\n",
    "    ans = [0,1,1]\n",
    "    if n<3:\n",
    "        return ans[n]\n",
    "    for i in range(3, n+1):\n",
    "        ans.append(ans[i-1]+ans[i-2])\n",
    "    return ans[n]"
   ],
   "metadata": {
    "collapsed": false,
    "ExecuteTime": {
     "start_time": "2023-09-29T00:37:29.981978Z",
     "end_time": "2023-09-29T00:37:30.034180Z"
    }
   }
  },
  {
   "cell_type": "markdown",
   "source": [
    "# 15. Exceptions"
   ],
   "metadata": {
    "collapsed": false
   }
  },
  {
   "cell_type": "markdown",
   "source": [
    "## 15.1 Rising exceptions"
   ],
   "metadata": {
    "collapsed": false
   }
  },
  {
   "cell_type": "code",
   "execution_count": 109,
   "outputs": [
    {
     "ename": "NameError",
     "evalue": "HiThere",
     "output_type": "error",
     "traceback": [
      "\u001B[1;31m---------------------------------------------------------------------------\u001B[0m",
      "\u001B[1;31mNameError\u001B[0m                                 Traceback (most recent call last)",
      "Cell \u001B[1;32mIn[109], line 1\u001B[0m\n\u001B[1;32m----> 1\u001B[0m \u001B[38;5;28;01mraise\u001B[39;00m \u001B[38;5;167;01mNameError\u001B[39;00m(\u001B[38;5;124m'\u001B[39m\u001B[38;5;124mHiThere\u001B[39m\u001B[38;5;124m'\u001B[39m)\n",
      "\u001B[1;31mNameError\u001B[0m: HiThere"
     ]
    }
   ],
   "source": [
    "raise NameError('HiThere')"
   ],
   "metadata": {
    "collapsed": false
   }
  },
  {
   "cell_type": "code",
   "execution_count": 110,
   "outputs": [],
   "source": [
    "def add_two(x, y):\n",
    "    if not isinstance(x, int):\n",
    "        raise TypeError('First argument must be of type integer')\n",
    "    if not isinstance(y, int):\n",
    "        raise TypeError('Second argument must be of type integer')\n",
    "    return x+y"
   ],
   "metadata": {
    "collapsed": false,
    "ExecuteTime": {
     "start_time": "2023-09-29T00:40:47.608213Z",
     "end_time": "2023-09-29T00:40:47.677426Z"
    }
   }
  },
  {
   "cell_type": "code",
   "execution_count": 111,
   "outputs": [
    {
     "ename": "TypeError",
     "evalue": "First argument must be of type integer",
     "output_type": "error",
     "traceback": [
      "\u001B[1;31m---------------------------------------------------------------------------\u001B[0m",
      "\u001B[1;31mTypeError\u001B[0m                                 Traceback (most recent call last)",
      "Cell \u001B[1;32mIn[111], line 1\u001B[0m\n\u001B[1;32m----> 1\u001B[0m z \u001B[38;5;241m=\u001B[39m add_two(\u001B[38;5;124m'\u001B[39m\u001B[38;5;124mabc\u001B[39m\u001B[38;5;124m'\u001B[39m, \u001B[38;5;124m'\u001B[39m\u001B[38;5;124mdef\u001B[39m\u001B[38;5;124m'\u001B[39m)\n",
      "Cell \u001B[1;32mIn[110], line 3\u001B[0m, in \u001B[0;36madd_two\u001B[1;34m(x, y)\u001B[0m\n\u001B[0;32m      1\u001B[0m \u001B[38;5;28;01mdef\u001B[39;00m \u001B[38;5;21madd_two\u001B[39m(x, y):\n\u001B[0;32m      2\u001B[0m     \u001B[38;5;28;01mif\u001B[39;00m \u001B[38;5;129;01mnot\u001B[39;00m \u001B[38;5;28misinstance\u001B[39m(x, \u001B[38;5;28mint\u001B[39m):\n\u001B[1;32m----> 3\u001B[0m         \u001B[38;5;28;01mraise\u001B[39;00m \u001B[38;5;167;01mTypeError\u001B[39;00m(\u001B[38;5;124m'\u001B[39m\u001B[38;5;124mFirst argument must be of type integer\u001B[39m\u001B[38;5;124m'\u001B[39m)\n\u001B[0;32m      4\u001B[0m     \u001B[38;5;28;01mif\u001B[39;00m \u001B[38;5;129;01mnot\u001B[39;00m \u001B[38;5;28misinstance\u001B[39m(y, \u001B[38;5;28mint\u001B[39m):\n\u001B[0;32m      5\u001B[0m         \u001B[38;5;28;01mraise\u001B[39;00m \u001B[38;5;167;01mTypeError\u001B[39;00m(\u001B[38;5;124m'\u001B[39m\u001B[38;5;124mSecond argument must be of type integer\u001B[39m\u001B[38;5;124m'\u001B[39m)\n",
      "\u001B[1;31mTypeError\u001B[0m: First argument must be of type integer"
     ]
    }
   ],
   "source": [
    "z = add_two('abc', 'def')"
   ],
   "metadata": {
    "collapsed": false
   }
  },
  {
   "cell_type": "code",
   "execution_count": 112,
   "outputs": [
    {
     "data": {
      "text/plain": "3.0"
     },
     "execution_count": 112,
     "metadata": {},
     "output_type": "execute_result"
    }
   ],
   "source": [
    "def add_two(x, y):\n",
    "    if not isinstance(x, (int, float)): # Check for multiple types\n",
    "        raise TypeError('First argument must be of type integer')\n",
    "    if not isinstance(y, (int, float)):\n",
    "        raise TypeError('Second argument must be of type integer')\n",
    "    return x+y\n",
    "\n",
    "add_two(2.0,1)"
   ],
   "metadata": {
    "collapsed": false,
    "ExecuteTime": {
     "start_time": "2023-09-29T00:41:41.291634Z",
     "end_time": "2023-09-29T00:41:41.352539Z"
    }
   }
  },
  {
   "cell_type": "markdown",
   "source": [
    "## 15.2 Handling Exceptions"
   ],
   "metadata": {
    "collapsed": false
   }
  },
  {
   "cell_type": "code",
   "execution_count": 113,
   "outputs": [
    {
     "name": "stdout",
     "output_type": "stream",
     "text": [
      "divide by zero\n"
     ]
    }
   ],
   "source": [
    "x, y = 5, 0\n",
    "try:\n",
    "    z = x/y\n",
    "except ZeroDivisionError:\n",
    "    print('divide by zero')"
   ],
   "metadata": {
    "collapsed": false,
    "ExecuteTime": {
     "start_time": "2023-09-29T00:42:48.165509Z",
     "end_time": "2023-09-29T00:42:48.220069Z"
    }
   }
  },
  {
   "cell_type": "code",
   "execution_count": 114,
   "outputs": [],
   "source": [
    "def devide_test(x, y):\n",
    "    try:\n",
    "        result = x / y\n",
    "    except ZeroDivisionError:\n",
    "        print('division by zero')\n",
    "    else:\n",
    "        print(\"result is\", result)\n",
    "    finally:\n",
    "        print(\"executing finally clause\")"
   ],
   "metadata": {
    "collapsed": false,
    "ExecuteTime": {
     "start_time": "2023-09-29T00:44:00.857593Z",
     "end_time": "2023-09-29T00:44:00.914855Z"
    }
   }
  },
  {
   "cell_type": "code",
   "execution_count": 115,
   "outputs": [
    {
     "name": "stdout",
     "output_type": "stream",
     "text": [
      "result is 2.0\n",
      "executing finally clause\n"
     ]
    }
   ],
   "source": [
    "devide_test(2,1)"
   ],
   "metadata": {
    "collapsed": false,
    "ExecuteTime": {
     "start_time": "2023-09-29T00:44:06.969997Z",
     "end_time": "2023-09-29T00:44:07.027769Z"
    }
   }
  },
  {
   "cell_type": "code",
   "execution_count": 116,
   "outputs": [
    {
     "name": "stdout",
     "output_type": "stream",
     "text": [
      "division by zero\n",
      "executing finally clause\n"
     ]
    }
   ],
   "source": [
    "devide_test(2,0)"
   ],
   "metadata": {
    "collapsed": false,
    "ExecuteTime": {
     "start_time": "2023-09-29T00:44:11.353912Z",
     "end_time": "2023-09-29T00:44:11.416836Z"
    }
   }
  },
  {
   "cell_type": "markdown",
   "source": [
    "# 16. Data Visualization"
   ],
   "metadata": {
    "collapsed": false
   }
  },
  {
   "cell_type": "code",
   "execution_count": 122,
   "outputs": [],
   "source": [
    "import numpy as np\n",
    "import matplotlib.pyplot as plt"
   ],
   "metadata": {
    "collapsed": false,
    "ExecuteTime": {
     "start_time": "2023-09-29T00:47:41.220846Z",
     "end_time": "2023-09-29T00:47:41.693402Z"
    }
   }
  },
  {
   "cell_type": "code",
   "execution_count": 118,
   "outputs": [],
   "source": [
    "x = [i/100 for i in range(0, 314)] # 0, 0.01, 0.02, ... , 3.14"
   ],
   "metadata": {
    "collapsed": false,
    "ExecuteTime": {
     "start_time": "2023-09-29T00:46:13.800977Z",
     "end_time": "2023-09-29T00:46:13.866470Z"
    }
   }
  },
  {
   "cell_type": "code",
   "execution_count": 120,
   "outputs": [
    {
     "data": {
      "text/plain": "array([0. , 0.1, 0.2, 0.3, 0.4, 0.5, 0.6, 0.7, 0.8, 0.9, 1. , 1.1, 1.2,\n       1.3, 1.4, 1.5, 1.6, 1.7, 1.8, 1.9, 2. , 2.1, 2.2, 2.3, 2.4, 2.5,\n       2.6, 2.7, 2.8, 2.9, 3. , 3.1])"
     },
     "execution_count": 120,
     "metadata": {},
     "output_type": "execute_result"
    }
   ],
   "source": [
    "x1 = np.arange(0, 3.14, 0.1)\n",
    "x1"
   ],
   "metadata": {
    "collapsed": false,
    "ExecuteTime": {
     "start_time": "2023-09-29T00:47:07.410127Z",
     "end_time": "2023-09-29T00:47:07.421958Z"
    }
   }
  },
  {
   "cell_type": "code",
   "execution_count": 121,
   "outputs": [
    {
     "data": {
      "text/plain": "32"
     },
     "execution_count": 121,
     "metadata": {},
     "output_type": "execute_result"
    }
   ],
   "source": [
    "len(x1)"
   ],
   "metadata": {
    "collapsed": false,
    "ExecuteTime": {
     "start_time": "2023-09-29T00:47:17.655076Z",
     "end_time": "2023-09-29T00:47:17.722748Z"
    }
   }
  },
  {
   "cell_type": "code",
   "execution_count": 123,
   "outputs": [
    {
     "data": {
      "text/plain": "<function matplotlib.pyplot.show(close=None, block=None)>"
     },
     "execution_count": 123,
     "metadata": {},
     "output_type": "execute_result"
    },
    {
     "data": {
      "text/plain": "<Figure size 640x480 with 1 Axes>",
      "image/png": "[encoded data removed]"
     },
     "metadata": {},
     "output_type": "display_data"
    }
   ],
   "source": [
    "x1 = np.linspace(0,3.14,100)\n",
    "plt.plot(x1)\n",
    "plt.show"
   ],
   "metadata": {
    "collapsed": false,
    "ExecuteTime": {
     "start_time": "2023-09-29T00:48:02.664965Z",
     "end_time": "2023-09-29T00:48:02.809511Z"
    }
   }
  },
  {
   "cell_type": "code",
   "execution_count": 125,
   "outputs": [
    {
     "data": {
      "text/plain": "<Figure size 640x480 with 1 Axes>",
      "image/png": "[encoded data removed]"
     },
     "metadata": {},
     "output_type": "display_data"
    }
   ],
   "source": [
    "y1 = np.cos(x1)\n",
    "plt.plot(x1, y1)\n",
    "plt.show()"
   ],
   "metadata": {
    "collapsed": false,
    "ExecuteTime": {
     "start_time": "2023-09-29T00:48:31.090026Z",
     "end_time": "2023-09-29T00:48:31.175771Z"
    }
   }
  },
  {
   "cell_type": "code",
   "execution_count": null,
   "outputs": [],
   "source": [],
   "metadata": {
    "collapsed": false
   }
  }
 ],
 "metadata": {
  "kernelspec": {
   "display_name": "Python 3",
   "language": "python",
   "name": "python3"
  },
  "language_info": {
   "codemirror_mode": {
    "name": "ipython",
    "version": 2
   },
   "file_extension": ".py",
   "mimetype": "text/x-python",
   "name": "python",
   "nbconvert_exporter": "python",
   "pygments_lexer": "ipython2",
   "version": "2.7.6"
  }
 },
 "nbformat": 4,
 "nbformat_minor": 0
}
