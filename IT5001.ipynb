{
 "cells": [
  {
   "cell_type": "code",
   "execution_count": 1,
   "id": "639daa22",
   "metadata": {},
   "outputs": [
    {
     "name": "stdout",
     "output_type": "stream",
     "text": [
      "5\n",
      "6\n",
      "7\n",
      "8\n",
      "9\n"
     ]
    }
   ],
   "source": [
    "n = 5\n",
    "while n < 10:\n",
    "\tprint(n)\n",
    "\tn += 1"
   ]
  },
  {
   "cell_type": "code",
   "execution_count": null,
   "id": "67d499d3",
   "metadata": {},
   "outputs": [],
   "source": []
  },
  {
   "cell_type": "code",
   "execution_count": 2,
   "id": "416c592e",
   "metadata": {},
   "outputs": [
    {
     "data": {
      "text/plain": [
       "10"
      ]
     },
     "execution_count": 2,
     "metadata": {},
     "output_type": "execute_result"
    }
   ],
   "source": [
    "n"
   ]
  },
  {
   "cell_type": "code",
   "execution_count": 3,
   "id": "0548ea32",
   "metadata": {},
   "outputs": [
    {
     "name": "stdout",
     "output_type": "stream",
     "text": [
      "5\n",
      "6\n",
      "7\n",
      "8\n",
      "9\n",
      "10\n"
     ]
    }
   ],
   "source": [
    "n = 5\n",
    "while n <= 10:\n",
    "\tprint(n)\n",
    "\tn += 1"
   ]
  },
  {
   "cell_type": "code",
   "execution_count": 4,
   "id": "bce52d5e",
   "metadata": {},
   "outputs": [
    {
     "data": {
      "text/plain": [
       "11"
      ]
     },
     "execution_count": 4,
     "metadata": {},
     "output_type": "execute_result"
    }
   ],
   "source": [
    "n"
   ]
  },
  {
   "cell_type": "code",
   "execution_count": 1,
   "id": "eb6344a3",
   "metadata": {},
   "outputs": [
    {
     "data": {
      "text/plain": [
       "'I0'"
      ]
     },
     "execution_count": 1,
     "metadata": {},
     "output_type": "execute_result"
    }
   ],
   "source": [
    "'IT5001'[0::3]"
   ]
  },
  {
   "cell_type": "code",
   "execution_count": 4,
   "id": "e6d99311",
   "metadata": {},
   "outputs": [
    {
     "data": {
      "text/plain": [
       "'T50'"
      ]
     },
     "execution_count": 4,
     "metadata": {},
     "output_type": "execute_result"
    }
   ],
   "source": [
    "'IT5001'[1:4]"
   ]
  },
  {
   "cell_type": "code",
   "execution_count": 5,
   "id": "e7eb30e2",
   "metadata": {},
   "outputs": [
    {
     "data": {
      "text/plain": [
       "False"
      ]
     },
     "execution_count": 5,
     "metadata": {},
     "output_type": "execute_result"
    }
   ],
   "source": [
    "'I' not in 'IT5001'"
   ]
  },
  {
   "cell_type": "code",
   "execution_count": 6,
   "id": "48557d0e",
   "metadata": {},
   "outputs": [
    {
     "data": {
      "text/plain": [
       "True"
      ]
     },
     "execution_count": 6,
     "metadata": {},
     "output_type": "execute_result"
    }
   ],
   "source": [
    "'i' not in 'IT5001'"
   ]
  },
  {
   "cell_type": "code",
   "execution_count": 11,
   "id": "dcb5d6e3",
   "metadata": {},
   "outputs": [
    {
     "data": {
      "text/plain": [
       "'string'"
      ]
     },
     "execution_count": 11,
     "metadata": {},
     "output_type": "execute_result"
    }
   ],
   "source": [
    "'string'[0::1]"
   ]
  },
  {
   "cell_type": "code",
   "execution_count": 12,
   "id": "9d043c6f",
   "metadata": {},
   "outputs": [
    {
     "name": "stdout",
     "output_type": "stream",
     "text": [
      "9 10\n"
     ]
    }
   ],
   "source": [
    "j = 0\n",
    "for i in range(10):\n",
    "    if i >= 9: break\n",
    "    if j == 8:\n",
    "        j = j + 2\n",
    "        continue\n",
    "    j = j + 1\n",
    "\n",
    "\n",
    "print(i, j)"
   ]
  },
  {
   "cell_type": "code",
   "execution_count": 13,
   "id": "3e76adaf",
   "metadata": {},
   "outputs": [
    {
     "name": "stdout",
     "output_type": "stream",
     "text": [
      "1\n",
      "9\n"
     ]
    }
   ],
   "source": [
    "x, y = 1, 9\n",
    "def foo(x, y):\n",
    "    while y > x:\n",
    "        y = y // 2\n",
    "        x = x + 1\n",
    "\n",
    "foo(x, y)\n",
    "\n",
    "print(x) # => ?\n",
    "print(y) # => ?"
   ]
  },
  {
   "cell_type": "code",
   "execution_count": 15,
   "id": "3352afbc",
   "metadata": {},
   "outputs": [
    {
     "data": {
      "text/plain": [
       "-12"
      ]
     },
     "execution_count": 15,
     "metadata": {},
     "output_type": "execute_result"
    }
   ],
   "source": [
    "int(-12.210)"
   ]
  },
  {
   "cell_type": "code",
   "execution_count": 16,
   "id": "d1b9c11e",
   "metadata": {},
   "outputs": [
    {
     "data": {
      "text/plain": [
       "['d', 'c', 'b', 'a']"
      ]
     },
     "execution_count": 16,
     "metadata": {},
     "output_type": "execute_result"
    }
   ],
   "source": [
    "['a', 'b', 'c', 'd'][::-1]"
   ]
  },
  {
   "cell_type": "code",
   "execution_count": 17,
   "id": "e18bed1d",
   "metadata": {},
   "outputs": [
    {
     "data": {
      "text/plain": [
       "(1, 2, 3, 4)"
      ]
     },
     "execution_count": 17,
     "metadata": {},
     "output_type": "execute_result"
    }
   ],
   "source": [
    "((1, 2) + (3, 4))"
   ]
  },
  {
   "cell_type": "code",
   "execution_count": 19,
   "id": "94e7132f",
   "metadata": {},
   "outputs": [
    {
     "data": {
      "text/plain": [
       "['IT5001']"
      ]
     },
     "execution_count": 19,
     "metadata": {},
     "output_type": "execute_result"
    }
   ],
   "source": [
    "a= []\n",
    "a.append('IT5001')\n",
    "a"
   ]
  },
  {
   "cell_type": "code",
   "execution_count": 20,
   "id": "16f46753",
   "metadata": {},
   "outputs": [
    {
     "data": {
      "text/plain": [
       "[1]"
      ]
     },
     "execution_count": 20,
     "metadata": {},
     "output_type": "execute_result"
    }
   ],
   "source": [
    "([] + [1] * 2)[:1]"
   ]
  },
  {
   "cell_type": "code",
   "execution_count": 21,
   "id": "e79d3730",
   "metadata": {},
   "outputs": [
    {
     "ename": "TypeError",
     "evalue": "unhashable type: 'set'",
     "output_type": "error",
     "traceback": [
      "\u001b[0;31m---------------------------------------------------------------------------\u001b[0m",
      "\u001b[0;31mTypeError\u001b[0m                                 Traceback (most recent call last)",
      "Cell \u001b[0;32mIn[21], line 1\u001b[0m\n\u001b[0;32m----> 1\u001b[0m \u001b[38;5;241m3\u001b[39m \u001b[38;5;129;01min\u001b[39;00m {\u001b[38;5;241m1\u001b[39m, \u001b[38;5;241m2\u001b[39m, {\u001b[38;5;241m3\u001b[39m, \u001b[38;5;241m4\u001b[39m}}\n",
      "\u001b[0;31mTypeError\u001b[0m: unhashable type: 'set'"
     ]
    }
   ],
   "source": [
    "3 in {1, 2, {3, 4}}"
   ]
  },
  {
   "cell_type": "code",
   "execution_count": 22,
   "id": "bab6cc5c",
   "metadata": {},
   "outputs": [
    {
     "data": {
      "text/plain": [
       "12"
      ]
     },
     "execution_count": 22,
     "metadata": {},
     "output_type": "execute_result"
    }
   ],
   "source": [
    "(lambda x: x(3))(lambda x: x * 4)"
   ]
  },
  {
   "cell_type": "code",
   "execution_count": 23,
   "id": "5d84452b",
   "metadata": {},
   "outputs": [
    {
     "data": {
      "text/plain": [
       "True"
      ]
     },
     "execution_count": 23,
     "metadata": {},
     "output_type": "execute_result"
    }
   ],
   "source": [
    "0 < 2 > 1"
   ]
  },
  {
   "cell_type": "code",
   "execution_count": 24,
   "id": "e3ab24ee",
   "metadata": {},
   "outputs": [
    {
     "name": "stdout",
     "output_type": "stream",
     "text": [
      "5\n"
     ]
    }
   ],
   "source": [
    "def num_mults(x, y):\n",
    "    res = 0\n",
    "    for i in range(x + 1):\n",
    "        if not i % y:\n",
    "            res += 1\n",
    "    return res\n",
    "print(num_mults(12, 3))"
   ]
  },
  {
   "cell_type": "code",
   "execution_count": 26,
   "id": "8efd9f1c",
   "metadata": {},
   "outputs": [
    {
     "data": {
      "text/plain": [
       "[0]"
      ]
     },
     "execution_count": 26,
     "metadata": {},
     "output_type": "execute_result"
    }
   ],
   "source": [
    "[1, 1, 0, 1, 0][-1:]"
   ]
  },
  {
   "cell_type": "code",
   "execution_count": 27,
   "id": "66d7580a",
   "metadata": {},
   "outputs": [
    {
     "name": "stdout",
     "output_type": "stream",
     "text": [
      "[0, 0, 1, 1, 1]\n"
     ]
    }
   ],
   "source": [
    "def zero_one(ls):\n",
    "    if len(ls) <= 1: return ls\n",
    "    if ls[0] and not ls[-1]:\n",
    "        return (ls[-1:] + zero_one(ls[1:-1])+ ls[:1])\n",
    "    if ls[0]:\n",
    "        return zero_one(ls[:-1]) + ls[-1:]\n",
    "    return ls[:1] + zero_one(ls[1:])\n",
    "print(zero_one([1, 1, 0, 1, 0]))"
   ]
  },
  {
   "cell_type": "code",
   "execution_count": 28,
   "id": "eee802c7",
   "metadata": {},
   "outputs": [
    {
     "data": {
      "text/plain": [
       "['b', 'c']"
      ]
     },
     "execution_count": 28,
     "metadata": {},
     "output_type": "execute_result"
    }
   ],
   "source": [
    "['a','b','c','d'][1:-1]"
   ]
  },
  {
   "cell_type": "code",
   "execution_count": 29,
   "id": "2c111b13",
   "metadata": {},
   "outputs": [
    {
     "name": "stderr",
     "output_type": "stream",
     "text": [
      "<>:1: SyntaxWarning: 'int' object is not callable; perhaps you missed a comma?\n",
      "<>:1: SyntaxWarning: 'int' object is not callable; perhaps you missed a comma?\n",
      "/tmp/ipykernel_1693929/2173195107.py:1: SyntaxWarning: 'int' object is not callable; perhaps you missed a comma?\n",
      "  1(2 + 3) % 4\n"
     ]
    },
    {
     "ename": "TypeError",
     "evalue": "'int' object is not callable",
     "output_type": "error",
     "traceback": [
      "\u001b[0;31m---------------------------------------------------------------------------\u001b[0m",
      "\u001b[0;31mTypeError\u001b[0m                                 Traceback (most recent call last)",
      "Cell \u001b[0;32mIn[29], line 1\u001b[0m\n\u001b[0;32m----> 1\u001b[0m \u001b[38;5;241m1\u001b[39m(\u001b[38;5;241m2\u001b[39m \u001b[38;5;241m+\u001b[39m \u001b[38;5;241m3\u001b[39m) \u001b[38;5;241m%\u001b[39m \u001b[38;5;241m4\u001b[39m\n",
      "\u001b[0;31mTypeError\u001b[0m: 'int' object is not callable"
     ]
    }
   ],
   "source": [
    "1(2 + 3) % 4"
   ]
  },
  {
   "cell_type": "code",
   "execution_count": 30,
   "id": "47d29f48",
   "metadata": {},
   "outputs": [
    {
     "data": {
      "text/plain": [
       "[]"
      ]
     },
     "execution_count": 30,
     "metadata": {},
     "output_type": "execute_result"
    }
   ],
   "source": [
    "[1, 2, 3][4:5] and 'IT5001!'"
   ]
  },
  {
   "cell_type": "code",
   "execution_count": 35,
   "id": "5e3aa286",
   "metadata": {},
   "outputs": [
    {
     "data": {
      "text/plain": [
       "[1, 2]"
      ]
     },
     "execution_count": 35,
     "metadata": {},
     "output_type": "execute_result"
    }
   ],
   "source": [
    "list(filter(bool, [0, 1, 2]))"
   ]
  },
  {
   "cell_type": "code",
   "execution_count": 36,
   "id": "6575e931",
   "metadata": {},
   "outputs": [
    {
     "data": {
      "text/plain": [
       "'11'"
      ]
     },
     "execution_count": 36,
     "metadata": {},
     "output_type": "execute_result"
    }
   ],
   "source": [
    "2*\"1\""
   ]
  },
  {
   "cell_type": "code",
   "execution_count": 38,
   "id": "ee98c052",
   "metadata": {},
   "outputs": [
    {
     "data": {
      "text/plain": [
       "'22'"
      ]
     },
     "execution_count": 38,
     "metadata": {},
     "output_type": "execute_result"
    }
   ],
   "source": [
    "\"2\"*2"
   ]
  },
  {
   "cell_type": "code",
   "execution_count": 39,
   "id": "f0f7d2c8",
   "metadata": {},
   "outputs": [
    {
     "data": {
      "text/plain": [
       "0"
      ]
     },
     "execution_count": 39,
     "metadata": {},
     "output_type": "execute_result"
    }
   ],
   "source": [
    "0*0"
   ]
  },
  {
   "cell_type": "code",
   "execution_count": 40,
   "id": "a34752cb",
   "metadata": {},
   "outputs": [
    {
     "ename": "TypeError",
     "evalue": "can't multiply sequence by non-int of type 'str'",
     "output_type": "error",
     "traceback": [
      "\u001b[0;31m---------------------------------------------------------------------------\u001b[0m",
      "\u001b[0;31mTypeError\u001b[0m                                 Traceback (most recent call last)",
      "Cell \u001b[0;32mIn[40], line 1\u001b[0m\n\u001b[0;32m----> 1\u001b[0m \u001b[38;5;124m'\u001b[39m\u001b[38;5;124m1\u001b[39m\u001b[38;5;124m'\u001b[39m\u001b[38;5;241m*\u001b[39m\u001b[38;5;124m'\u001b[39m\u001b[38;5;124m2\u001b[39m\u001b[38;5;124m'\u001b[39m\n",
      "\u001b[0;31mTypeError\u001b[0m: can't multiply sequence by non-int of type 'str'"
     ]
    }
   ],
   "source": [
    "'1'*'2'"
   ]
  },
  {
   "cell_type": "code",
   "execution_count": 43,
   "id": "1e5d3e6b",
   "metadata": {},
   "outputs": [],
   "source": [
    "def p(n):\n",
    "    i = 2\n",
    "    while n>=i:\n",
    "        if n%i==0:\n",
    "            n = n//i\n",
    "            print(i)\n",
    "        else:\n",
    "            i+=1\n"
   ]
  },
  {
   "cell_type": "code",
   "execution_count": 45,
   "id": "9519a423",
   "metadata": {},
   "outputs": [
    {
     "name": "stdout",
     "output_type": "stream",
     "text": [
      "2\n",
      "2\n",
      "3\n",
      "5\n"
     ]
    }
   ],
   "source": [
    "p(60)"
   ]
  },
  {
   "cell_type": "code",
   "execution_count": 47,
   "id": "8c87cc6f",
   "metadata": {},
   "outputs": [
    {
     "name": "stdout",
     "output_type": "stream",
     "text": [
      "#\n"
     ]
    }
   ],
   "source": [
    "print('#')#')#')#')#')'[2])"
   ]
  },
  {
   "cell_type": "code",
   "execution_count": 48,
   "id": "9caa0783",
   "metadata": {},
   "outputs": [
    {
     "name": "stdout",
     "output_type": "stream",
     "text": [
      "-2\n"
     ]
    }
   ],
   "source": [
    "print(1+-+1+-+1+-+1)"
   ]
  },
  {
   "cell_type": "code",
   "execution_count": 70,
   "id": "54424256",
   "metadata": {},
   "outputs": [],
   "source": [
    "lst =[1, 2,3]"
   ]
  },
  {
   "cell_type": "code",
   "execution_count": 71,
   "id": "346b0b0a",
   "metadata": {},
   "outputs": [],
   "source": [
    "def local_peak_function_version(a, b, survey):\n",
    "    for i in range(b-a+1):\n",
    "        if i+a+1 > b:\n",
    "            return i+a\n",
    "        if survey(i+a) < survey(i+a+1):\n",
    "            continue\n",
    "        else:\n",
    "            return i+a\n",
    "    return ''"
   ]
  },
  {
   "cell_type": "code",
   "execution_count": null,
   "id": "a0fb367f",
   "metadata": {},
   "outputs": [],
   "source": [
    "survey2 = lambda i: i if i <= 1234567890 else (1234567890*2) - i - 1\n",
    "print(local_peak_function_version(0,12345678900,survey2))"
   ]
  },
  {
   "cell_type": "code",
   "execution_count": 73,
   "id": "897cb4a3",
   "metadata": {},
   "outputs": [],
   "source": [
    "part = ['#.#','.#.','#.#']\n",
    "num = [[] for _ in range(len(part))]"
   ]
  },
  {
   "cell_type": "code",
   "execution_count": 74,
   "id": "3f48b7ad",
   "metadata": {},
   "outputs": [
    {
     "data": {
      "text/plain": [
       "[[], [], []]"
      ]
     },
     "execution_count": 74,
     "metadata": {},
     "output_type": "execute_result"
    }
   ],
   "source": [
    "num"
   ]
  },
  {
   "cell_type": "code",
   "execution_count": 75,
   "id": "d200a7e7",
   "metadata": {},
   "outputs": [],
   "source": [
    "pic = [[' ', '#', '#', '#', ' ', '#', '#', '#', '#', '#', '#', '#', ' ', '#', '#', '#', '#', '#', '#', '#', ' ', ' ', ' ', '#', '#', '#', ' ', ' ', ' ', ' ', ' ', '#', '#', '#', ' ', ' ', ' ', ' ', ' ', '#', ' ', ' ', ' '], [' ', ' ', '#', ' ', ' ', ' ', ' ', ' ', '#', ' ', ' ', ' ', ' ', '#', ' ', ' ', ' ', ' ', ' ', ' ', ' ', ' ', '#', ' ', ' ', ' ', '#', ' ', ' ', ' ', '#', ' ', ' ', ' ', '#', ' ', ' ', ' ', '#', '#', ' ', ' ', ' ', ' '], [' ', ' ', '#', ' ', ' ', ' ', ' ', ' ', '#', ' ', ' ', ' ', ' ', '#', ' ', ' ', ' ', ' ', ' ', ' ', ' ', '#', ' ', ' ', ' ', ' ', ' ', '#', ' ', '#', ' ', ' ', ' ', ' ', ' ', '#', ' ', '#', ' ', '#', ' ', ' ', ' ', ' '], [' ', ' ', '#', ' ', ' ', ' ', ' ', ' ', '#', ' ', ' ', ' ', ' ', '#', '#', '#', '#', '#', '#', ' ', ' ', '#', ' ', ' ', ' ', ' ', ' ', '#', ' ', '#', ' ', ' ', ' ', ' ', ' ', '#', ' ', ' ', ' ', '#', ' ', ' ', ' ', ' '], [' ', ' ', '#', ' ', ' ', ' ', ' ', ' ', '#', ' ', ' ', ' ', ' ', ' ', ' ', ' ', ' ', ' ', ' ', '#', ' ', '#', ' ', ' ', ' ', ' ', ' ', '#', ' ', '#', ' ', ' ', ' ', ' ', ' ', '#', ' ', ' ', ' ', '#', ' ', ' ', ' ', ' '], [' ', ' ', '#', ' ', ' ', ' ', ' ', ' ', '#', ' ', ' ', ' ', ' ', '#', ' ', ' ', ' ', ' ', ' ', '#', ' ', ' ', '#', ' ', ' ', ' ', '#', ' ', ' ', ' ', '#', ' ', ' ', ' ', '#', ' ', ' ', ' ', ' ', '#', ' ', ' ', ' ', ' '], [' ', '#', '#', '#', ' ', ' ', ' ', ' ', '#', ' ', ' ', ' ', ' ', ' ', '#', '#', '#', '#', '#', ' ', ' ', ' ', ' ', '#', '#', '#', ' ', ' ', ' ', ' ', ' ', '#', '#', '#', ' ', ' ', ' ', '#', '#', '#', '#', '#', ' ', ' '], [' ', ' ', ' ', ' ', ' ', ' ', ' ', ' ', ' ', ' ', ' ', ' ', ' ', ' ', ' ', ' ', ' ', ' ', ' ', ' ', ' ', ' ', ' ', ' ', ' ', ' ', ' ', ' ', ' ', ' ', ' ', ' ', ' ', ' ', ' ', ' ', ' ', ' ', ' ', ' ', ' ', ' ', ' ', ' '], [' ', '#', '#', '#', '#', '#', '#', ' ', ' ', '#', '#', '#', '#', '#', '#', '#', ' ', ' ', '#', '#', '#', '#', '#', ' ', ' ', '#', ' ', ' ', ' ', ' ', '#', ' ', ' ', '#', '#', '#', '#', '#', ' ', ' ', '#', '#', '#', ' '], [' ', '#', ' ', ' ', ' ', ' ', ' ', '#', ' ', '#', ' ', ' ', ' ', ' ', ' ', '#', ' ', '#', ' ', ' ', ' ', ' ', ' ', '#', ' ', '#', ' ', ' ', ' ', '#', ' ', ' ', '#', ' ', ' ', ' ', ' ', ' ', '#', ' ', '#', '#', '#', ' '], [' ', '#', ' ', ' ', ' ', ' ', ' ', '#', ' ', '#', ' ', ' ', ' ', ' ', ' ', '#', ' ', '#', ' ', ' ', ' ', ' ', ' ', ' ', ' ', '#', ' ', ' ', '#', ' ', ' ', ' ', '#', ' ', ' ', ' ', ' ', ' ', ' ', ' ', '#', '#', '#', ' '], [' ', '#', '#', '#', '#', '#', '#', ' ', ' ', '#', ' ', ' ', ' ', ' ', ' ', '#', ' ', '#', ' ', ' ', ' ', ' ', ' ', ' ', ' ', '#', '#', '#', ' ', ' ', ' ', ' ', ' ', '#', '#', '#', '#', '#', ' ', ' ', ' ', '#', ' ', ' '], [' ', '#', ' ', ' ', ' ', '#', ' ', ' ', ' ', '#', ' ', ' ', ' ', ' ', ' ', '#', ' ', '#', ' ', ' ', ' ', ' ', ' ', ' ', ' ', '#', ' ', ' ', '#', ' ', ' ', ' ', ' ', ' ', ' ', ' ', ' ', ' ', '#', ' ', ' ', ' ', ' ', ' '], [' ', '#', ' ', ' ', ' ', ' ', '#', ' ', ' ', '#', ' ', ' ', ' ', ' ', ' ', '#', ' ', '#', ' ', ' ', ' ', ' ', ' ', '#', ' ', '#', ' ', ' ', ' ', '#', ' ', ' ', '#', ' ', ' ', ' ', ' ', ' ', '#', ' ', '#', '#', '#', ' '], [' ', '#', ' ', ' ', ' ', ' ', ' ', '#', ' ', '#', '#', '#', '#', '#', '#', '#', ' ', ' ', '#', '#', '#', '#', '#', ' ', ' ', '#', ' ', ' ', ' ', ' ', '#', ' ', ' ', '#', '#', '#', '#', '#', ' ', ' ', '#', '#', '#', ' ']]\n",
    "pic1 = [['.', '.', '.', '.', '.', '.', '.', '.', '.', '.'], ['.', '.', '#', '.', '#', '.', '.', '.', '.', '.'], ['.', '.', '.', '#', '.', '.', '.', '.', '.', '.'], ['.', '.', '#', '.', '#', '.', '#', '.', '.', '.'], ['.', '.', '.', '.', '.', '#', '.', '.', '.', '.'], ['.', '.', '.', '.', '#', '.', '#', '.', '.', '.'], ['.', '.', '.', '.', '.', '.', '.', '.', '.', '.']]\n",
    "part = ['#.#','.#.','#.#']"
   ]
  },
  {
   "cell_type": "code",
   "execution_count": 80,
   "id": "a703e473",
   "metadata": {},
   "outputs": [
    {
     "data": {
      "text/plain": [
       "False"
      ]
     },
     "execution_count": 80,
     "metadata": {},
     "output_type": "execute_result"
    }
   ],
   "source": [
    "list(part1[0]) in pic1"
   ]
  },
  {
   "cell_type": "code",
   "execution_count": 96,
   "id": "74893e5b",
   "metadata": {},
   "outputs": [
    {
     "data": {
      "text/plain": [
       "[['#', '.', '#'], ['.', '#', '.'], ['#', '.', '#']]"
      ]
     },
     "execution_count": 96,
     "metadata": {},
     "output_type": "execute_result"
    }
   ],
   "source": [
    "part1 = []\n",
    "count = 0\n",
    "for element in part:\n",
    "    part1.append(list(element))\n",
    "    count += 1\n",
    "part1"
   ]
  },
  {
   "cell_type": "code",
   "execution_count": 100,
   "id": "2a985d9b",
   "metadata": {},
   "outputs": [],
   "source": [
    "result = []\n",
    "for i in range(len(pic1)):\n",
    "    for j in range(len(pic1[0])):\n",
    "        if part1[0][0] == pic1[i][j] and part1[0][1] == pic1[i][j+1] and part1[0][2] == pic1[i][j+2] and part1[1][0] == pic1[i+1][j]\\\n",
    "         and part1[1][1] == pic1[i+1][j+1] and part1[1][2] == pic1[i+1][j+2] and part1[2][0] == pic1[i+2][j] and part1[2][1] == pic1[i+2][j+1]\\\n",
    "         and part1[2][2] == pic1[i+2][j+2]:\n",
    "            result.append((i, i+2, j, j+2))\n",
    "            "
   ]
  },
  {
   "cell_type": "code",
   "execution_count": 101,
   "id": "d393b294",
   "metadata": {},
   "outputs": [
    {
     "data": {
      "text/plain": [
       "[(1, 3, 2, 4), (3, 5, 4, 6)]"
      ]
     },
     "execution_count": 101,
     "metadata": {},
     "output_type": "execute_result"
    }
   ],
   "source": [
    "result"
   ]
  },
  {
   "cell_type": "code",
   "execution_count": 99,
   "id": "ffc3da20",
   "metadata": {},
   "outputs": [
    {
     "data": {
      "text/plain": [
       "'#'"
      ]
     },
     "execution_count": 99,
     "metadata": {},
     "output_type": "execute_result"
    }
   ],
   "source": [
    "part1[0][0]"
   ]
  },
  {
   "cell_type": "code",
   "execution_count": 115,
   "id": "e4fad47a",
   "metadata": {},
   "outputs": [],
   "source": [
    "def plinko_general(seq,prizes):\n",
    "    prizes1 = list(prizes)\n",
    "    count = 0\n",
    "    for element in seq:\n",
    "        if prizes1[element] >= 1:\n",
    "            print(True)\n",
    "            prizes1[element] -= 1\n",
    "            count += 1\n",
    "            #print(prizes[element])\n",
    "        else:\n",
    "            print(False)\n",
    "    return count"
   ]
  },
  {
   "cell_type": "code",
   "execution_count": 116,
   "id": "1645d8cf",
   "metadata": {},
   "outputs": [
    {
     "name": "stdout",
     "output_type": "stream",
     "text": [
      "True\n",
      "True\n",
      "True\n",
      "True\n",
      "True\n",
      "True\n",
      "True\n",
      "True\n",
      "True\n",
      "9\n"
     ]
    }
   ],
   "source": [
    "print(plinko_general((0,0,0,0,0,1,0,1,2),(6,2,2)))"
   ]
  },
  {
   "cell_type": "code",
   "execution_count": 118,
   "id": "e787fdfe",
   "metadata": {},
   "outputs": [
    {
     "data": {
      "text/plain": [
       "[10, 2, 8, 18, 22, 44, 24, 110]"
      ]
     },
     "execution_count": 118,
     "metadata": {},
     "output_type": "execute_result"
    }
   ],
   "source": [
    "lst = [5,1,4,9,11,22,12,55]\n",
    "list(map(lambda x:2*x, lst))"
   ]
  },
  {
   "cell_type": "code",
   "execution_count": 119,
   "id": "71834930",
   "metadata": {},
   "outputs": [
    {
     "data": {
      "text/plain": [
       "4"
      ]
     },
     "execution_count": 119,
     "metadata": {},
     "output_type": "execute_result"
    }
   ],
   "source": [
    "lst2 = [1,2,3,[4,5,6,7]]\n",
    "len(lst2)"
   ]
  },
  {
   "cell_type": "code",
   "execution_count": 120,
   "id": "4c14d5f5",
   "metadata": {},
   "outputs": [
    {
     "ename": "NameError",
     "evalue": "name 'flatten' is not defined",
     "output_type": "error",
     "traceback": [
      "\u001b[0;31m---------------------------------------------------------------------------\u001b[0m",
      "\u001b[0;31mNameError\u001b[0m                                 Traceback (most recent call last)",
      "Cell \u001b[0;32mIn[120], line 1\u001b[0m\n\u001b[0;32m----> 1\u001b[0m flatten([\u001b[38;5;241m1\u001b[39m,\u001b[38;5;241m2\u001b[39m,\u001b[38;5;241m3\u001b[39m,[\u001b[38;5;241m1\u001b[39m,\u001b[38;5;241m2\u001b[39m],[\u001b[38;5;241m2\u001b[39m,\u001b[38;5;241m3\u001b[39m,\u001b[38;5;241m4\u001b[39m,[\u001b[38;5;241m1\u001b[39m,\u001b[38;5;241m2\u001b[39m,\u001b[38;5;241m3\u001b[39m]],[\u001b[38;5;241m3\u001b[39m,\u001b[38;5;241m4\u001b[39m,\u001b[38;5;241m5\u001b[39m]])\n",
      "\u001b[0;31mNameError\u001b[0m: name 'flatten' is not defined"
     ]
    }
   ],
   "source": [
    "flatten([1,2,3,[1,2],[2,3,4,[1,2,3]],[3,4,5]])"
   ]
  },
  {
   "cell_type": "code",
   "execution_count": 129,
   "id": "b51678e0",
   "metadata": {},
   "outputs": [
    {
     "data": {
      "text/plain": [
       "'bbbbbbbbb'"
      ]
     },
     "execution_count": 129,
     "metadata": {},
     "output_type": "execute_result"
    }
   ],
   "source": [
    "f=lambda a,b:lambda x:b(b(a))\n",
    "f('b',lambda a:a*3)(lambda a:a[:1])"
   ]
  },
  {
   "cell_type": "code",
   "execution_count": 131,
   "id": "c1d3216e",
   "metadata": {},
   "outputs": [
    {
     "ename": "TypeError",
     "evalue": "list indices must be integers or slices, not list",
     "output_type": "error",
     "traceback": [
      "\u001b[0;31m---------------------------------------------------------------------------\u001b[0m",
      "\u001b[0;31mTypeError\u001b[0m                                 Traceback (most recent call last)",
      "Cell \u001b[0;32mIn[131], line 1\u001b[0m\n\u001b[0;32m----> 1\u001b[0m [\u001b[38;5;241m5\u001b[39m,[\u001b[38;5;241m3\u001b[39m], [\u001b[38;5;241m2\u001b[39m,\u001b[38;5;241m3\u001b[39m]][[\u001b[38;5;241m2\u001b[39m,[\u001b[38;5;241m1\u001b[39m]][\u001b[38;5;241m1\u001b[39m]][:[\u001b[38;5;241m1\u001b[39m,\u001b[38;5;241m2\u001b[39m][\u001b[38;5;241m1\u001b[39m]]\n",
      "\u001b[0;31mTypeError\u001b[0m: list indices must be integers or slices, not list"
     ]
    }
   ],
   "source": [
    "[5,[3], [2,3]][[2,[1]][1]][:[1,2][1]]"
   ]
  },
  {
   "cell_type": "code",
   "execution_count": 132,
   "id": "6036e5de",
   "metadata": {},
   "outputs": [
    {
     "data": {
      "text/plain": [
       "21"
      ]
     },
     "execution_count": 132,
     "metadata": {},
     "output_type": "execute_result"
    }
   ],
   "source": [
    "x=1\n",
    "for i in range(5):\n",
    "    for j in range(2,4):\n",
    "        x = x+2\n",
    "x"
   ]
  },
  {
   "cell_type": "code",
   "execution_count": 133,
   "id": "02fc35f0",
   "metadata": {},
   "outputs": [
    {
     "data": {
      "text/plain": [
       "('b', 'c')"
      ]
     },
     "execution_count": 133,
     "metadata": {},
     "output_type": "execute_result"
    }
   ],
   "source": [
    "tuple('bc')"
   ]
  },
  {
   "cell_type": "code",
   "execution_count": 134,
   "id": "ef276809",
   "metadata": {},
   "outputs": [
    {
     "data": {
      "text/plain": [
       "'d'"
      ]
     },
     "execution_count": 134,
     "metadata": {},
     "output_type": "execute_result"
    }
   ],
   "source": [
    "d=dict([('b','c'), ('d', 'e'), ('y', 'a'), ('a', 'b'), ('b', 'q'), ('b', 'd')])\n",
    "d['b']"
   ]
  },
  {
   "cell_type": "code",
   "execution_count": 135,
   "id": "57204995",
   "metadata": {},
   "outputs": [
    {
     "name": "stdout",
     "output_type": "stream",
     "text": [
      "Fight\n"
     ]
    }
   ],
   "source": [
    "class RPGCharacter:\n",
    "    def __init__(self):\n",
    "        self.action = 'Doing Nothing'\n",
    "    def act(self):\n",
    "        print(self.action)\n",
    "class Fighter(RPGCharacter):\n",
    "    def __init__(self):\n",
    "        self.action = 'Fight'\n",
    "class Cleric(RPGCharacter):\n",
    "    def __init__(self):\n",
    "        self.action = 'Heal'\n",
    "class Paladin(Fighter,Cleric):\n",
    "    pass\n",
    "me = Paladin()\n",
    "me.act()"
   ]
  },
  {
   "cell_type": "code",
   "execution_count": 136,
   "id": "bd8fbc81",
   "metadata": {},
   "outputs": [
    {
     "data": {
      "text/plain": [
       "{}"
      ]
     },
     "execution_count": 136,
     "metadata": {},
     "output_type": "execute_result"
    }
   ],
   "source": [
    "memo = {}\n",
    "memo"
   ]
  },
  {
   "cell_type": "code",
   "execution_count": 137,
   "id": "3b900bb3",
   "metadata": {},
   "outputs": [],
   "source": [
    "memo[2,3]=5"
   ]
  },
  {
   "cell_type": "code",
   "execution_count": 138,
   "id": "9e763dbf",
   "metadata": {},
   "outputs": [
    {
     "data": {
      "text/plain": [
       "{(2, 3): 5}"
      ]
     },
     "execution_count": 138,
     "metadata": {},
     "output_type": "execute_result"
    }
   ],
   "source": [
    "memo"
   ]
  },
  {
   "cell_type": "code",
   "execution_count": 141,
   "id": "19b7c0a1",
   "metadata": {},
   "outputs": [],
   "source": [
    "memo['s'] = 'tr'"
   ]
  },
  {
   "cell_type": "code",
   "execution_count": 143,
   "id": "0af4aaa2",
   "metadata": {},
   "outputs": [
    {
     "data": {
      "text/plain": [
       "1"
      ]
     },
     "execution_count": 143,
     "metadata": {},
     "output_type": "execute_result"
    }
   ],
   "source": [
    "6**2*0+1"
   ]
  },
  {
   "cell_type": "code",
   "execution_count": 144,
   "id": "fde1e9a3",
   "metadata": {},
   "outputs": [
    {
     "data": {
      "text/plain": [
       "('0', '1', '2')"
      ]
     },
     "execution_count": 144,
     "metadata": {},
     "output_type": "execute_result"
    }
   ],
   "source": [
    "tuple(map(str, range(0,3)))"
   ]
  },
  {
   "cell_type": "code",
   "execution_count": 147,
   "id": "b1f25542",
   "metadata": {},
   "outputs": [
    {
     "name": "stdout",
     "output_type": "stream",
     "text": [
      "[8, 18]\n"
     ]
    }
   ],
   "source": [
    "print([i*2 for i in range(4,10,5)])"
   ]
  },
  {
   "cell_type": "code",
   "execution_count": 148,
   "id": "3762a1bc",
   "metadata": {},
   "outputs": [
    {
     "ename": "ValueError",
     "evalue": "invalid literal for int() with base 10: '4*2'",
     "output_type": "error",
     "traceback": [
      "\u001b[0;31m---------------------------------------------------------------------------\u001b[0m",
      "\u001b[0;31mValueError\u001b[0m                                Traceback (most recent call last)",
      "Cell \u001b[0;32mIn[148], line 1\u001b[0m\n\u001b[0;32m----> 1\u001b[0m \u001b[38;5;241m5\u001b[39m \u001b[38;5;241m*\u001b[39m \u001b[38;5;28mint\u001b[39m(\u001b[38;5;124m'\u001b[39m\u001b[38;5;124m4*2\u001b[39m\u001b[38;5;124m'\u001b[39m)\n",
      "\u001b[0;31mValueError\u001b[0m: invalid literal for int() with base 10: '4*2'"
     ]
    }
   ],
   "source": [
    "5 * int('4*2')"
   ]
  },
  {
   "cell_type": "code",
   "execution_count": 149,
   "id": "a60b3793",
   "metadata": {},
   "outputs": [
    {
     "data": {
      "text/plain": [
       "''"
      ]
     },
     "execution_count": 149,
     "metadata": {},
     "output_type": "execute_result"
    }
   ],
   "source": [
    "'d'[1:0]"
   ]
  },
  {
   "cell_type": "code",
   "execution_count": 153,
   "id": "8afb5521",
   "metadata": {},
   "outputs": [
    {
     "data": {
      "text/plain": [
       "2"
      ]
     },
     "execution_count": 153,
     "metadata": {},
     "output_type": "execute_result"
    }
   ],
   "source": [
    "round(2.5)"
   ]
  },
  {
   "cell_type": "code",
   "execution_count": 155,
   "id": "b4c7b2cd",
   "metadata": {},
   "outputs": [
    {
     "data": {
      "text/plain": [
       "2"
      ]
     },
     "execution_count": 155,
     "metadata": {},
     "output_type": "execute_result"
    }
   ],
   "source": [
    "round(1.5)"
   ]
  },
  {
   "cell_type": "code",
   "execution_count": 159,
   "id": "22eaa431",
   "metadata": {},
   "outputs": [
    {
     "data": {
      "text/plain": [
       "True"
      ]
     },
     "execution_count": 159,
     "metadata": {},
     "output_type": "execute_result"
    }
   ],
   "source": [
    "1>1+1 or 3>7-6 or 6>7/0"
   ]
  },
  {
   "cell_type": "code",
   "execution_count": 160,
   "id": "9c3827cc",
   "metadata": {},
   "outputs": [
    {
     "data": {
      "text/plain": [
       "0"
      ]
     },
     "execution_count": 160,
     "metadata": {},
     "output_type": "execute_result"
    }
   ],
   "source": [
    "11&4"
   ]
  },
  {
   "cell_type": "code",
   "execution_count": 161,
   "id": "3bfe2c24",
   "metadata": {},
   "outputs": [
    {
     "data": {
      "text/plain": [
       "[-1.2, 9.0]"
      ]
     },
     "execution_count": 161,
     "metadata": {},
     "output_type": "execute_result"
    }
   ],
   "source": [
    "list(filter(int, (-1.2,-0.5,9.0,0.2)))"
   ]
  },
  {
   "cell_type": "code",
   "execution_count": 162,
   "id": "3dda6c7e",
   "metadata": {},
   "outputs": [
    {
     "data": {
      "text/plain": [
       "[1, 9]"
      ]
     },
     "execution_count": 162,
     "metadata": {},
     "output_type": "execute_result"
    }
   ],
   "source": [
    "(lambda x: x + [9])([1])"
   ]
  },
  {
   "cell_type": "code",
   "execution_count": 164,
   "id": "f4074ff5",
   "metadata": {},
   "outputs": [
    {
     "data": {
      "text/plain": [
       "9"
      ]
     },
     "execution_count": 164,
     "metadata": {},
     "output_type": "execute_result"
    }
   ],
   "source": [
    "(lambda f: lambda x: f(f(f(x))))(lambda x: x+2)(3)"
   ]
  },
  {
   "cell_type": "code",
   "execution_count": 165,
   "id": "be1d5c02",
   "metadata": {},
   "outputs": [
    {
     "data": {
      "text/plain": [
       "15"
      ]
     },
     "execution_count": 165,
     "metadata": {},
     "output_type": "execute_result"
    }
   ],
   "source": [
    "(lambda a,b,c: b(a(c)))(lambda x: x+4, lambda x: x*3, 1)"
   ]
  },
  {
   "cell_type": "code",
   "execution_count": 166,
   "id": "d7328aae",
   "metadata": {},
   "outputs": [
    {
     "data": {
      "text/plain": [
       "7"
      ]
     },
     "execution_count": 166,
     "metadata": {},
     "output_type": "execute_result"
    }
   ],
   "source": [
    "(lambda x,y:y(x))(lambda x:x+2, (lambda x: lambda y: x(x(y))))(3)"
   ]
  },
  {
   "cell_type": "code",
   "execution_count": 167,
   "id": "039c6801",
   "metadata": {},
   "outputs": [
    {
     "data": {
      "text/plain": [
       "12"
      ]
     },
     "execution_count": 167,
     "metadata": {},
     "output_type": "execute_result"
    }
   ],
   "source": [
    "sum(map(lambda x:x(2), [lambda x: i+x for i in range(3)]))"
   ]
  },
  {
   "cell_type": "code",
   "execution_count": 169,
   "id": "7e95fe66",
   "metadata": {},
   "outputs": [
    {
     "ename": "RuntimeError",
     "evalue": "dictionary changed size during iteration",
     "output_type": "error",
     "traceback": [
      "\u001b[0;31m---------------------------------------------------------------------------\u001b[0m",
      "\u001b[0;31mRuntimeError\u001b[0m                              Traceback (most recent call last)",
      "Cell \u001b[0;32mIn[169], line 2\u001b[0m\n\u001b[1;32m      1\u001b[0m a \u001b[38;5;241m=\u001b[39m {\u001b[38;5;241m1\u001b[39m: \u001b[38;5;241m2\u001b[39m, \u001b[38;5;241m2\u001b[39m:\u001b[38;5;241m4\u001b[39m, \u001b[38;5;241m3\u001b[39m:\u001b[38;5;241m6\u001b[39m, \u001b[38;5;241m4\u001b[39m:\u001b[38;5;241m7\u001b[39m}\n\u001b[0;32m----> 2\u001b[0m \u001b[38;5;28;01mfor\u001b[39;00m k \u001b[38;5;129;01min\u001b[39;00m a:\n\u001b[1;32m      3\u001b[0m     \u001b[38;5;28;01mdel\u001b[39;00m a[k]\n",
      "\u001b[0;31mRuntimeError\u001b[0m: dictionary changed size during iteration"
     ]
    }
   ],
   "source": [
    "a = {1: 2, 2:4, 3:6, 4:7}\n",
    "for k in a:\n",
    "    del a[k]"
   ]
  },
  {
   "cell_type": "code",
   "execution_count": 170,
   "id": "1f2ee2ad",
   "metadata": {},
   "outputs": [
    {
     "name": "stdout",
     "output_type": "stream",
     "text": [
      "1\n",
      "3\n",
      "5\n"
     ]
    }
   ],
   "source": [
    "ans = 0\n",
    "l = [1,2,3,4,5]\n",
    "for i in l:\n",
    "    l.pop(0)\n",
    "    print(i)"
   ]
  },
  {
   "cell_type": "code",
   "execution_count": 181,
   "id": "bc7996b8",
   "metadata": {},
   "outputs": [],
   "source": [
    "def test(lst, t):\n",
    "    count = 0\n",
    "    lst2 = set(lst)\n",
    "    for e in lst:\n",
    "        if (t-e) != e and (t-e) in lst2:\n",
    "            count += 1\n",
    "    return count // 2"
   ]
  },
  {
   "cell_type": "code",
   "execution_count": 182,
   "id": "c9cd71de",
   "metadata": {},
   "outputs": [
    {
     "data": {
      "text/plain": [
       "2"
      ]
     },
     "execution_count": 182,
     "metadata": {},
     "output_type": "execute_result"
    }
   ],
   "source": [
    "test([3,5,6,4,7],9)"
   ]
  },
  {
   "cell_type": "code",
   "execution_count": 185,
   "id": "1b08c663",
   "metadata": {},
   "outputs": [
    {
     "name": "stdout",
     "output_type": "stream",
     "text": [
      "0\n",
      "1\n",
      "2\n"
     ]
    }
   ],
   "source": []
  },
  {
   "cell_type": "code",
   "execution_count": 187,
   "id": "bec85f38",
   "metadata": {},
   "outputs": [
    {
     "data": {
      "text/plain": [
       "18"
      ]
     },
     "execution_count": 187,
     "metadata": {},
     "output_type": "execute_result"
    }
   ],
   "source": [
    "9-+-+-+-9"
   ]
  },
  {
   "cell_type": "code",
   "execution_count": 188,
   "id": "a9670c68",
   "metadata": {},
   "outputs": [
    {
     "name": "stdout",
     "output_type": "stream",
     "text": [
      "2\n"
     ]
    }
   ],
   "source": [
    "print(bool(4) + int(True) or float(False))"
   ]
  },
  {
   "cell_type": "code",
   "execution_count": 189,
   "id": "531270a0",
   "metadata": {},
   "outputs": [
    {
     "name": "stderr",
     "output_type": "stream",
     "text": [
      "<>:1: SyntaxWarning: list indices must be integers or slices, not str; perhaps you missed a comma?\n",
      "<>:1: SyntaxWarning: list indices must be integers or slices, not str; perhaps you missed a comma?\n",
      "/tmp/ipykernel_1693929/761244262.py:1: SyntaxWarning: list indices must be integers or slices, not str; perhaps you missed a comma?\n",
      "  print(['123','456']['123'[0]])\n",
      "/tmp/ipykernel_1693929/761244262.py:1: SyntaxWarning: list indices must be integers or slices, not str; perhaps you missed a comma?\n",
      "  print(['123','456']['123'[0]])\n",
      "/tmp/ipykernel_1693929/761244262.py:1: SyntaxWarning: list indices must be integers or slices, not str; perhaps you missed a comma?\n",
      "  print(['123','456']['123'[0]])\n",
      "/tmp/ipykernel_1693929/761244262.py:1: SyntaxWarning: list indices must be integers or slices, not str; perhaps you missed a comma?\n",
      "  print(['123','456']['123'[0]])\n",
      "/tmp/ipykernel_1693929/761244262.py:1: SyntaxWarning: list indices must be integers or slices, not str; perhaps you missed a comma?\n",
      "  print(['123','456']['123'[0]])\n"
     ]
    },
    {
     "ename": "TypeError",
     "evalue": "list indices must be integers or slices, not str",
     "output_type": "error",
     "traceback": [
      "\u001b[0;31m---------------------------------------------------------------------------\u001b[0m",
      "\u001b[0;31mTypeError\u001b[0m                                 Traceback (most recent call last)",
      "Cell \u001b[0;32mIn[189], line 1\u001b[0m\n\u001b[0;32m----> 1\u001b[0m \u001b[38;5;28mprint\u001b[39m([\u001b[38;5;124m'\u001b[39m\u001b[38;5;124m123\u001b[39m\u001b[38;5;124m'\u001b[39m,\u001b[38;5;124m'\u001b[39m\u001b[38;5;124m456\u001b[39m\u001b[38;5;124m'\u001b[39m][\u001b[38;5;124m'\u001b[39m\u001b[38;5;124m123\u001b[39m\u001b[38;5;124m'\u001b[39m[\u001b[38;5;241m0\u001b[39m]])\n",
      "\u001b[0;31mTypeError\u001b[0m: list indices must be integers or slices, not str"
     ]
    }
   ],
   "source": [
    "print(['123','456']['123'[0]])"
   ]
  },
  {
   "cell_type": "code",
   "execution_count": 190,
   "id": "a63b9968",
   "metadata": {},
   "outputs": [
    {
     "ename": "TypeError",
     "evalue": "can only concatenate str (not \"int\") to str",
     "output_type": "error",
     "traceback": [
      "\u001b[0;31m---------------------------------------------------------------------------\u001b[0m",
      "\u001b[0;31mTypeError\u001b[0m                                 Traceback (most recent call last)",
      "Cell \u001b[0;32mIn[190], line 1\u001b[0m\n\u001b[0;32m----> 1\u001b[0m \u001b[38;5;124m'\u001b[39m\u001b[38;5;124m1\u001b[39m\u001b[38;5;124m'\u001b[39m\u001b[38;5;241m+\u001b[39m\u001b[38;5;124m'\u001b[39m\u001b[38;5;124m3\u001b[39m\u001b[38;5;124m'\u001b[39m\u001b[38;5;241m+\u001b[39m\u001b[38;5;124m'\u001b[39m\u001b[38;5;124m4\u001b[39m\u001b[38;5;124m'\u001b[39m\u001b[38;5;241m+\u001b[39m\u001b[38;5;241m0\u001b[39m\u001b[38;5;241m+\u001b[39m\u001b[38;5;124m'\u001b[39m\u001b[38;5;124m2\u001b[39m\u001b[38;5;124m'\u001b[39m\n",
      "\u001b[0;31mTypeError\u001b[0m: can only concatenate str (not \"int\") to str"
     ]
    }
   ],
   "source": [
    "'1'+'3'+'4'+0+'2'"
   ]
  },
  {
   "cell_type": "code",
   "execution_count": 191,
   "id": "7f62e035",
   "metadata": {},
   "outputs": [
    {
     "name": "stdout",
     "output_type": "stream",
     "text": [
      "5\n"
     ]
    }
   ],
   "source": [
    "x=0\n",
    "for i in range(0,10,2):\n",
    "    x+=1\n",
    "print(x)"
   ]
  },
  {
   "cell_type": "code",
   "execution_count": 192,
   "id": "00f56730",
   "metadata": {},
   "outputs": [
    {
     "name": "stdout",
     "output_type": "stream",
     "text": [
      "32\n"
     ]
    }
   ],
   "source": [
    "x=0\n",
    "for i in range(3,11):\n",
    "    for j in range(6,10):\n",
    "        x+=1\n",
    "print(x)"
   ]
  },
  {
   "cell_type": "code",
   "execution_count": 193,
   "id": "5dfcd209",
   "metadata": {},
   "outputs": [
    {
     "ename": "KeyboardInterrupt",
     "evalue": "",
     "output_type": "error",
     "traceback": [
      "\u001b[0;31m---------------------------------------------------------------------------\u001b[0m",
      "\u001b[0;31mKeyboardInterrupt\u001b[0m                         Traceback (most recent call last)",
      "Cell \u001b[0;32mIn[193], line 3\u001b[0m\n\u001b[1;32m      1\u001b[0m x\u001b[38;5;241m=\u001b[39m\u001b[38;5;241m0\u001b[39m\n\u001b[1;32m      2\u001b[0m \u001b[38;5;28;01mfor\u001b[39;00m i \u001b[38;5;129;01min\u001b[39;00m \u001b[38;5;28mrange\u001b[39m(\u001b[38;5;241m0\u001b[39m,\u001b[38;5;241m5\u001b[39m,\u001b[38;5;241m2\u001b[39m):\n\u001b[0;32m----> 3\u001b[0m     \u001b[38;5;28;01mwhile\u001b[39;00m \u001b[38;5;129;01mnot\u001b[39;00m i:\n\u001b[1;32m      4\u001b[0m         x \u001b[38;5;241m+\u001b[39m\u001b[38;5;241m=\u001b[39m i\n\u001b[1;32m      5\u001b[0m \u001b[38;5;28mprint\u001b[39m(x)\n",
      "\u001b[0;31mKeyboardInterrupt\u001b[0m: "
     ]
    }
   ],
   "source": [
    "x=0\n",
    "for i in range(0,5,2):\n",
    "    while not i:\n",
    "        x += i\n",
    "print(x)"
   ]
  },
  {
   "cell_type": "code",
   "execution_count": 194,
   "id": "f15f524b",
   "metadata": {},
   "outputs": [
    {
     "name": "stdout",
     "output_type": "stream",
     "text": [
      "21\n"
     ]
    }
   ],
   "source": [
    "x=10\n",
    "def foo(x):\n",
    "    x+=1\n",
    "    return x\n",
    "print(x+foo(x))"
   ]
  },
  {
   "cell_type": "code",
   "execution_count": 195,
   "id": "f89df65a",
   "metadata": {},
   "outputs": [
    {
     "name": "stdout",
     "output_type": "stream",
     "text": [
      "[1, 3]\n"
     ]
    }
   ],
   "source": [
    "print(list({1:2, 3:4}))"
   ]
  },
  {
   "cell_type": "code",
   "execution_count": 196,
   "id": "c6aef6d8",
   "metadata": {},
   "outputs": [
    {
     "name": "stdout",
     "output_type": "stream",
     "text": [
      "12\n"
     ]
    }
   ],
   "source": [
    "f1 = lambda x,y : x*y\n",
    "f2 = lambda a,b,c: a(b,c)\n",
    "print(f2(f1,3,4))"
   ]
  },
  {
   "cell_type": "code",
   "execution_count": 197,
   "id": "83632ea9",
   "metadata": {},
   "outputs": [
    {
     "name": "stdout",
     "output_type": "stream",
     "text": [
      "(2, 4)\n"
     ]
    }
   ],
   "source": [
    "x=tuple(filter(lambda x:x%3, [2,4,6]))\n",
    "print(x)"
   ]
  },
  {
   "cell_type": "code",
   "execution_count": 198,
   "id": "2c2d8ee2",
   "metadata": {},
   "outputs": [
    {
     "name": "stdout",
     "output_type": "stream",
     "text": [
      "Pikachu electricity\n"
     ]
    }
   ],
   "source": [
    "class Pokemon:\n",
    "    def __init__(self, name, power):\n",
    "        self.name = name\n",
    "        self.slogan = name + ' ' + power\n",
    "pikachu = Pokemon('Pikachu', 'electricity')\n",
    "pikachu.name='pika'\n",
    "print(pikachu.slogan)"
   ]
  },
  {
   "cell_type": "code",
   "execution_count": 200,
   "id": "b36b431f",
   "metadata": {},
   "outputs": [
    {
     "ename": "SyntaxError",
     "evalue": "expected 'except' or 'finally' block (886346225.py, line 4)",
     "output_type": "error",
     "traceback": [
      "\u001b[0;36m  Cell \u001b[0;32mIn[200], line 4\u001b[0;36m\u001b[0m\n\u001b[0;31m    print(n+1)\u001b[0m\n\u001b[0m    ^\u001b[0m\n\u001b[0;31mSyntaxError\u001b[0m\u001b[0;31m:\u001b[0m expected 'except' or 'finally' block\n"
     ]
    }
   ],
   "source": [
    "n=5\n",
    "try:\n",
    "    n+=1\n",
    "print(n+1)\n",
    "except:\n",
    "    print(n)"
   ]
  },
  {
   "cell_type": "code",
   "execution_count": 202,
   "id": "b8936111",
   "metadata": {},
   "outputs": [
    {
     "name": "stdout",
     "output_type": "stream",
     "text": [
      "8\n"
     ]
    }
   ],
   "source": [
    "n=0\n",
    "try:\n",
    "    n+=1\n",
    "except:\n",
    "    n+=2\n",
    "else:\n",
    "    n+=3\n",
    "finally:\n",
    "    n+=4\n",
    "print(n)"
   ]
  },
  {
   "cell_type": "code",
   "execution_count": 203,
   "id": "687c5d3a",
   "metadata": {},
   "outputs": [
    {
     "ename": "UnboundLocalError",
     "evalue": "cannot access local variable 'a' where it is not associated with a value",
     "output_type": "error",
     "traceback": [
      "\u001b[0;31m---------------------------------------------------------------------------\u001b[0m",
      "\u001b[0;31mUnboundLocalError\u001b[0m                         Traceback (most recent call last)",
      "Cell \u001b[0;32mIn[203], line 5\u001b[0m\n\u001b[1;32m      3\u001b[0m     a \u001b[38;5;241m+\u001b[39m\u001b[38;5;241m=\u001b[39m \u001b[38;5;241m1\u001b[39m\n\u001b[1;32m      4\u001b[0m     \u001b[38;5;28;01mreturn\u001b[39;00m x\u001b[38;5;241m+\u001b[39ma\n\u001b[0;32m----> 5\u001b[0m foo(a)\n\u001b[1;32m      6\u001b[0m a\n",
      "Cell \u001b[0;32mIn[203], line 3\u001b[0m, in \u001b[0;36mfoo\u001b[0;34m(x)\u001b[0m\n\u001b[1;32m      2\u001b[0m \u001b[38;5;28;01mdef\u001b[39;00m \u001b[38;5;21mfoo\u001b[39m(x):\n\u001b[0;32m----> 3\u001b[0m     a \u001b[38;5;241m+\u001b[39m\u001b[38;5;241m=\u001b[39m \u001b[38;5;241m1\u001b[39m\n\u001b[1;32m      4\u001b[0m     \u001b[38;5;28;01mreturn\u001b[39;00m x\u001b[38;5;241m+\u001b[39ma\n",
      "\u001b[0;31mUnboundLocalError\u001b[0m: cannot access local variable 'a' where it is not associated with a value"
     ]
    }
   ],
   "source": [
    "a = 3\n",
    "def foo(x):\n",
    "    a += 1\n",
    "    return x+a\n",
    "foo(a)\n",
    "a"
   ]
  },
  {
   "cell_type": "code",
   "execution_count": 205,
   "id": "cf46c032",
   "metadata": {},
   "outputs": [
    {
     "data": {
      "text/plain": [
       "5"
      ]
     },
     "execution_count": 205,
     "metadata": {},
     "output_type": "execute_result"
    }
   ],
   "source": [
    "import random\n",
    "random.randint(0,5)"
   ]
  },
  {
   "cell_type": "code",
   "execution_count": 206,
   "id": "c54e056f",
   "metadata": {},
   "outputs": [
    {
     "name": "stdout",
     "output_type": "stream",
     "text": [
      "[[1, 5], 3, 4]\n"
     ]
    }
   ],
   "source": [
    "L1 = [1,2] \n",
    "L2 = [L1,3,4] \n",
    "L3 = L2.copy() \n",
    "L3[0][1] = 5 \n",
    "print(L2)"
   ]
  },
  {
   "cell_type": "code",
   "execution_count": 207,
   "id": "ab26c86d",
   "metadata": {},
   "outputs": [
    {
     "data": {
      "text/plain": [
       "'987'"
      ]
     },
     "execution_count": 207,
     "metadata": {},
     "output_type": "execute_result"
    }
   ],
   "source": [
    "max('987','9111')"
   ]
  },
  {
   "cell_type": "code",
   "execution_count": 209,
   "id": "82cef0b6",
   "metadata": {},
   "outputs": [
    {
     "data": {
      "text/plain": [
       "'234'"
      ]
     },
     "execution_count": 209,
     "metadata": {},
     "output_type": "execute_result"
    }
   ],
   "source": [
    "'12345'[1:4][0:5]"
   ]
  },
  {
   "cell_type": "code",
   "execution_count": 211,
   "id": "422704d8",
   "metadata": {},
   "outputs": [
    {
     "data": {
      "text/plain": [
       "'3'"
      ]
     },
     "execution_count": 211,
     "metadata": {},
     "output_type": "execute_result"
    }
   ],
   "source": [
    "'234'[0:5][1]"
   ]
  },
  {
   "cell_type": "code",
   "execution_count": 212,
   "id": "50d25174",
   "metadata": {},
   "outputs": [],
   "source": [
    "f2 = lambda a,b,c: a(b,c)\n",
    "def any(a,b,c):\n",
    "    return a(b,c)\n",
    "\n",
    "f1 = lambda x,y : x*y\n",
    "def any(x,y):\n",
    "    return x*y"
   ]
  },
  {
   "cell_type": "code",
   "execution_count": 213,
   "id": "7c8d680f",
   "metadata": {},
   "outputs": [
    {
     "ename": "AssertionError",
     "evalue": "",
     "output_type": "error",
     "traceback": [
      "\u001b[0;31m---------------------------------------------------------------------------\u001b[0m",
      "\u001b[0;31mAssertionError\u001b[0m                            Traceback (most recent call last)",
      "Cell \u001b[0;32mIn[213], line 1\u001b[0m\n\u001b[0;32m----> 1\u001b[0m \u001b[38;5;28;01massert\u001b[39;00m \u001b[38;5;241m1\u001b[39m\u001b[38;5;241m<\u001b[39m\u001b[38;5;241m0\u001b[39m\n",
      "\u001b[0;31mAssertionError\u001b[0m: "
     ]
    }
   ],
   "source": [
    "assert 1<0"
   ]
  },
  {
   "cell_type": "code",
   "execution_count": 216,
   "id": "1be2b47a",
   "metadata": {},
   "outputs": [
    {
     "name": "stdout",
     "output_type": "stream",
     "text": [
      "[[1, 5], 3, 4]\n"
     ]
    }
   ],
   "source": [
    "L1 = [1,2] \n",
    "L2 = [L1,3,4] \n",
    "L3 = L2.copy() \n",
    "L3[0][1] = 5 \n",
    "print(L2)"
   ]
  },
  {
   "cell_type": "code",
   "execution_count": 219,
   "id": "eddd7086",
   "metadata": {},
   "outputs": [
    {
     "data": {
      "text/plain": [
       "{2: {3: 4}}"
      ]
     },
     "execution_count": 219,
     "metadata": {},
     "output_type": "execute_result"
    }
   ],
   "source": [
    "{1:{2:{3:4}}}[1]"
   ]
  },
  {
   "cell_type": "code",
   "execution_count": 223,
   "id": "a6de132e",
   "metadata": {},
   "outputs": [
    {
     "ename": "ValueError",
     "evalue": "min() arg is an empty sequence",
     "output_type": "error",
     "traceback": [
      "\u001b[0;31m---------------------------------------------------------------------------\u001b[0m",
      "\u001b[0;31mValueError\u001b[0m                                Traceback (most recent call last)",
      "Cell \u001b[0;32mIn[223], line 2\u001b[0m\n\u001b[1;32m      1\u001b[0m a \u001b[38;5;241m=\u001b[39m \u001b[38;5;28mmap\u001b[39m(\u001b[38;5;28mint\u001b[39m, \u001b[38;5;124m'\u001b[39m\u001b[38;5;124m123\u001b[39m\u001b[38;5;124m'\u001b[39m)\n\u001b[0;32m----> 2\u001b[0m \u001b[38;5;28mmax\u001b[39m(a) \u001b[38;5;241m+\u001b[39m \u001b[38;5;28mmin\u001b[39m(a)\n",
      "\u001b[0;31mValueError\u001b[0m: min() arg is an empty sequence"
     ]
    }
   ],
   "source": [
    "a = map(int, '123')\n",
    "max(a) + min(a)"
   ]
  },
  {
   "cell_type": "code",
   "execution_count": 224,
   "id": "626d32ee",
   "metadata": {},
   "outputs": [
    {
     "data": {
      "text/plain": [
       "2"
      ]
     },
     "execution_count": 224,
     "metadata": {},
     "output_type": "execute_result"
    }
   ],
   "source": [
    "int(2.3)"
   ]
  },
  {
   "cell_type": "code",
   "execution_count": 225,
   "id": "91863646",
   "metadata": {},
   "outputs": [
    {
     "ename": "RecursionError",
     "evalue": "maximum recursion depth exceeded",
     "output_type": "error",
     "traceback": [
      "\u001b[0;31m---------------------------------------------------------------------------\u001b[0m",
      "\u001b[0;31mRecursionError\u001b[0m                            Traceback (most recent call last)",
      "Cell \u001b[0;32mIn[225], line 4\u001b[0m\n\u001b[1;32m      2\u001b[0m     \u001b[38;5;28;01mif\u001b[39;00m n\u001b[38;5;241m==\u001b[39m\u001b[38;5;241m0\u001b[39m \u001b[38;5;129;01mor\u001b[39;00m n\u001b[38;5;241m==\u001b[39m\u001b[38;5;241m1\u001b[39m: \u001b[38;5;28;01mreturn\u001b[39;00m \u001b[38;5;241m1\u001b[39m\n\u001b[1;32m      3\u001b[0m     \u001b[38;5;28;01mreturn\u001b[39;00m fib(n\u001b[38;5;241m-\u001b[39m\u001b[38;5;241m1\u001b[39m)\u001b[38;5;241m+\u001b[39mfib(n\u001b[38;5;241m-\u001b[39m\u001b[38;5;241m2\u001b[39m)\n\u001b[0;32m----> 4\u001b[0m fib(\u001b[38;5;241m-\u001b[39m\u001b[38;5;241m1\u001b[39m)\n",
      "Cell \u001b[0;32mIn[225], line 3\u001b[0m, in \u001b[0;36mfib\u001b[0;34m(n)\u001b[0m\n\u001b[1;32m      1\u001b[0m \u001b[38;5;28;01mdef\u001b[39;00m \u001b[38;5;21mfib\u001b[39m(n):\n\u001b[1;32m      2\u001b[0m     \u001b[38;5;28;01mif\u001b[39;00m n\u001b[38;5;241m==\u001b[39m\u001b[38;5;241m0\u001b[39m \u001b[38;5;129;01mor\u001b[39;00m n\u001b[38;5;241m==\u001b[39m\u001b[38;5;241m1\u001b[39m: \u001b[38;5;28;01mreturn\u001b[39;00m \u001b[38;5;241m1\u001b[39m\n\u001b[0;32m----> 3\u001b[0m     \u001b[38;5;28;01mreturn\u001b[39;00m fib(n\u001b[38;5;241m-\u001b[39m\u001b[38;5;241m1\u001b[39m)\u001b[38;5;241m+\u001b[39mfib(n\u001b[38;5;241m-\u001b[39m\u001b[38;5;241m2\u001b[39m)\n",
      "Cell \u001b[0;32mIn[225], line 3\u001b[0m, in \u001b[0;36mfib\u001b[0;34m(n)\u001b[0m\n\u001b[1;32m      1\u001b[0m \u001b[38;5;28;01mdef\u001b[39;00m \u001b[38;5;21mfib\u001b[39m(n):\n\u001b[1;32m      2\u001b[0m     \u001b[38;5;28;01mif\u001b[39;00m n\u001b[38;5;241m==\u001b[39m\u001b[38;5;241m0\u001b[39m \u001b[38;5;129;01mor\u001b[39;00m n\u001b[38;5;241m==\u001b[39m\u001b[38;5;241m1\u001b[39m: \u001b[38;5;28;01mreturn\u001b[39;00m \u001b[38;5;241m1\u001b[39m\n\u001b[0;32m----> 3\u001b[0m     \u001b[38;5;28;01mreturn\u001b[39;00m fib(n\u001b[38;5;241m-\u001b[39m\u001b[38;5;241m1\u001b[39m)\u001b[38;5;241m+\u001b[39mfib(n\u001b[38;5;241m-\u001b[39m\u001b[38;5;241m2\u001b[39m)\n",
      "    \u001b[0;31m[... skipping similar frames: fib at line 3 (2971 times)]\u001b[0m\n",
      "Cell \u001b[0;32mIn[225], line 3\u001b[0m, in \u001b[0;36mfib\u001b[0;34m(n)\u001b[0m\n\u001b[1;32m      1\u001b[0m \u001b[38;5;28;01mdef\u001b[39;00m \u001b[38;5;21mfib\u001b[39m(n):\n\u001b[1;32m      2\u001b[0m     \u001b[38;5;28;01mif\u001b[39;00m n\u001b[38;5;241m==\u001b[39m\u001b[38;5;241m0\u001b[39m \u001b[38;5;129;01mor\u001b[39;00m n\u001b[38;5;241m==\u001b[39m\u001b[38;5;241m1\u001b[39m: \u001b[38;5;28;01mreturn\u001b[39;00m \u001b[38;5;241m1\u001b[39m\n\u001b[0;32m----> 3\u001b[0m     \u001b[38;5;28;01mreturn\u001b[39;00m fib(n\u001b[38;5;241m-\u001b[39m\u001b[38;5;241m1\u001b[39m)\u001b[38;5;241m+\u001b[39mfib(n\u001b[38;5;241m-\u001b[39m\u001b[38;5;241m2\u001b[39m)\n",
      "\u001b[0;31mRecursionError\u001b[0m: maximum recursion depth exceeded"
     ]
    }
   ],
   "source": [
    "def fib(n):\n",
    "    if n==0 or n==1: return 1\n",
    "    return fib(n-1)+fib(n-2)\n",
    "fib(-1)"
   ]
  },
  {
   "cell_type": "code",
   "execution_count": 226,
   "id": "64978f18",
   "metadata": {},
   "outputs": [],
   "source": [
    "from functools import reduce"
   ]
  },
  {
   "cell_type": "code",
   "execution_count": 228,
   "id": "edae0bd0",
   "metadata": {},
   "outputs": [
    {
     "ename": "TypeError",
     "evalue": "unsupported operand type(s) for -: 'str' and 'str'",
     "output_type": "error",
     "traceback": [
      "\u001b[0;31m---------------------------------------------------------------------------\u001b[0m",
      "\u001b[0;31mTypeError\u001b[0m                                 Traceback (most recent call last)",
      "Cell \u001b[0;32mIn[228], line 4\u001b[0m\n\u001b[1;32m      1\u001b[0m \u001b[38;5;28;01mfrom\u001b[39;00m \u001b[38;5;21;01mfunctools\u001b[39;00m \u001b[38;5;28;01mimport\u001b[39;00m reduce\n\u001b[1;32m      2\u001b[0m _ \u001b[38;5;241m=\u001b[39m \u001b[38;5;28mmap\u001b[39m(\u001b[38;5;28;01mlambda\u001b[39;00m i: i \u001b[38;5;241m+\u001b[39m \u001b[38;5;124m'\u001b[39m\u001b[38;5;124m2\u001b[39m\u001b[38;5;124m'\u001b[39m , \u001b[38;5;124m'\u001b[39m\u001b[38;5;124m123\u001b[39m\u001b[38;5;124m'\u001b[39m )\n\u001b[0;32m----> 4\u001b[0m x \u001b[38;5;241m=\u001b[39m reduce(\u001b[38;5;28;01mlambda\u001b[39;00m i, j: i \u001b[38;5;241m-\u001b[39m j, _)\n\u001b[1;32m      5\u001b[0m \u001b[38;5;28mprint\u001b[39m(x)\n",
      "Cell \u001b[0;32mIn[228], line 4\u001b[0m, in \u001b[0;36m<lambda>\u001b[0;34m(i, j)\u001b[0m\n\u001b[1;32m      1\u001b[0m \u001b[38;5;28;01mfrom\u001b[39;00m \u001b[38;5;21;01mfunctools\u001b[39;00m \u001b[38;5;28;01mimport\u001b[39;00m reduce\n\u001b[1;32m      2\u001b[0m _ \u001b[38;5;241m=\u001b[39m \u001b[38;5;28mmap\u001b[39m(\u001b[38;5;28;01mlambda\u001b[39;00m i: i \u001b[38;5;241m+\u001b[39m \u001b[38;5;124m'\u001b[39m\u001b[38;5;124m2\u001b[39m\u001b[38;5;124m'\u001b[39m , \u001b[38;5;124m'\u001b[39m\u001b[38;5;124m123\u001b[39m\u001b[38;5;124m'\u001b[39m )\n\u001b[0;32m----> 4\u001b[0m x \u001b[38;5;241m=\u001b[39m reduce(\u001b[38;5;28;01mlambda\u001b[39;00m i, j: i \u001b[38;5;241m-\u001b[39m j, _)\n\u001b[1;32m      5\u001b[0m \u001b[38;5;28mprint\u001b[39m(x)\n",
      "\u001b[0;31mTypeError\u001b[0m: unsupported operand type(s) for -: 'str' and 'str'"
     ]
    }
   ],
   "source": [
    "from functools import reduce\n",
    "_ = map(lambda i: i + '2' , '123' )\n",
    "_ = map(int, _)\n",
    "_ = filter(lambda i: i % 4 == 0, _)\n",
    "x = reduce(lambda i, j: i - j, _)\n",
    "print(x)"
   ]
  },
  {
   "cell_type": "code",
   "execution_count": 229,
   "id": "7ecacadb",
   "metadata": {},
   "outputs": [
    {
     "data": {
      "text/plain": [
       "<map at 0x7fae1d485cc0>"
      ]
     },
     "execution_count": 229,
     "metadata": {},
     "output_type": "execute_result"
    }
   ],
   "source": [
    "_ = map(lambda i: i + '2' , '123' )\n",
    "[1,2,3,2]\n"
   ]
  },
  {
   "cell_type": "code",
   "execution_count": 230,
   "id": "16e48758",
   "metadata": {},
   "outputs": [
    {
     "name": "stdout",
     "output_type": "stream",
     "text": [
      "[1, 2]\n"
     ]
    }
   ],
   "source": [
    "def f30():\n",
    "    ls = []\n",
    "    try:\n",
    "        ls.append(1)\n",
    "        ls.append(1 / 0)\n",
    "    except:\n",
    "        ls.append(2)\n",
    "    finally:\n",
    "        return ls\n",
    "print(f30())"
   ]
  },
  {
   "cell_type": "code",
   "execution_count": 236,
   "id": "6705b897",
   "metadata": {},
   "outputs": [
    {
     "name": "stdout",
     "output_type": "stream",
     "text": [
      "4\n"
     ]
    }
   ],
   "source": [
    "try: \n",
    "    x = 1 \n",
    "    #assert False \n",
    "except AssertionError: \n",
    "    x += 2 \n",
    "except: \n",
    "    x += 4\n",
    "else:\n",
    "    x+=3\n",
    "print(x)"
   ]
  },
  {
   "cell_type": "code",
   "execution_count": 237,
   "id": "d598dade",
   "metadata": {},
   "outputs": [
    {
     "ename": "AttributeError",
     "evalue": "'B' object has no attribute 'x'",
     "output_type": "error",
     "traceback": [
      "\u001b[0;31m---------------------------------------------------------------------------\u001b[0m",
      "\u001b[0;31mAttributeError\u001b[0m                            Traceback (most recent call last)",
      "Cell \u001b[0;32mIn[237], line 11\u001b[0m\n\u001b[1;32m      9\u001b[0m a \u001b[38;5;241m=\u001b[39m A(\u001b[38;5;241m1\u001b[39m)\n\u001b[1;32m     10\u001b[0m b \u001b[38;5;241m=\u001b[39m B(\u001b[38;5;241m2\u001b[39m)\n\u001b[0;32m---> 11\u001b[0m b\u001b[38;5;241m.\u001b[39mf32(a)\n\u001b[1;32m     12\u001b[0m \u001b[38;5;28mprint\u001b[39m(b\u001b[38;5;241m.\u001b[39mx)\n",
      "Cell \u001b[0;32mIn[237], line 5\u001b[0m, in \u001b[0;36mA.f32\u001b[0;34m(self, a)\u001b[0m\n\u001b[1;32m      4\u001b[0m \u001b[38;5;28;01mdef\u001b[39;00m \u001b[38;5;21mf32\u001b[39m(\u001b[38;5;28mself\u001b[39m, a):\n\u001b[0;32m----> 5\u001b[0m     \u001b[38;5;28mself\u001b[39m\u001b[38;5;241m.\u001b[39mx \u001b[38;5;241m+\u001b[39m\u001b[38;5;241m=\u001b[39m a\u001b[38;5;241m.\u001b[39mx\n",
      "\u001b[0;31mAttributeError\u001b[0m: 'B' object has no attribute 'x'"
     ]
    }
   ],
   "source": [
    "class A:\n",
    "    def __init__(self, x):\n",
    "        self.x = x\n",
    "    def f32(self, a):\n",
    "        self.x += a.x\n",
    "class B(A):\n",
    "    def __init__(self, y):\n",
    "        self.y = y\n",
    "a = A(1)\n",
    "b = B(2)\n",
    "b.f32(a)\n",
    "print(b.x)"
   ]
  },
  {
   "cell_type": "code",
   "execution_count": 243,
   "id": "41c941c3",
   "metadata": {},
   "outputs": [],
   "source": [
    "def cheap(A, x, y):\n",
    "    a = sum(A[i] for i in range(x+1, y+1))\n",
    "    b = sum(A)- a - A[x] + A[y]\n",
    "    return min(a,b)"
   ]
  },
  {
   "cell_type": "code",
   "execution_count": 244,
   "id": "30efa22b",
   "metadata": {},
   "outputs": [
    {
     "data": {
      "text/plain": [
       "10"
      ]
     },
     "execution_count": 244,
     "metadata": {},
     "output_type": "execute_result"
    }
   ],
   "source": [
    "A = [5,4,3,4,5]\n",
    "cheap(A,1,4)"
   ]
  },
  {
   "cell_type": "code",
   "execution_count": 245,
   "id": "714e4a9e",
   "metadata": {},
   "outputs": [
    {
     "data": {
      "text/plain": [
       "7"
      ]
     },
     "execution_count": 245,
     "metadata": {},
     "output_type": "execute_result"
    }
   ],
   "source": [
    "cheap(A,0,2)"
   ]
  },
  {
   "cell_type": "code",
   "execution_count": 246,
   "id": "4b4f7ec5",
   "metadata": {},
   "outputs": [
    {
     "data": {
      "text/plain": [
       "0"
      ]
     },
     "execution_count": 246,
     "metadata": {},
     "output_type": "execute_result"
    }
   ],
   "source": [
    "cheap(A,3,3)"
   ]
  },
  {
   "cell_type": "code",
   "execution_count": 247,
   "id": "a80f736a",
   "metadata": {},
   "outputs": [
    {
     "data": {
      "text/plain": [
       "'edcba'"
      ]
     },
     "execution_count": 247,
     "metadata": {},
     "output_type": "execute_result"
    }
   ],
   "source": [
    "'abcde'[::-1]"
   ]
  },
  {
   "cell_type": "code",
   "execution_count": 248,
   "id": "018e8908",
   "metadata": {},
   "outputs": [
    {
     "data": {
      "text/plain": [
       "'IT'"
      ]
     },
     "execution_count": 248,
     "metadata": {},
     "output_type": "execute_result"
    }
   ],
   "source": [
    "\"IT5001\"[0:2]"
   ]
  },
  {
   "cell_type": "code",
   "execution_count": 256,
   "id": "21d4720a",
   "metadata": {},
   "outputs": [
    {
     "data": {
      "text/plain": [
       "''"
      ]
     },
     "execution_count": 256,
     "metadata": {},
     "output_type": "execute_result"
    }
   ],
   "source": [
    "'abcde'[2:1]"
   ]
  },
  {
   "cell_type": "code",
   "execution_count": 258,
   "id": "e9257843",
   "metadata": {},
   "outputs": [
    {
     "ename": "KeyError",
     "evalue": "2",
     "output_type": "error",
     "traceback": [
      "\u001b[0;31m---------------------------------------------------------------------------\u001b[0m",
      "\u001b[0;31mKeyError\u001b[0m                                  Traceback (most recent call last)",
      "Cell \u001b[0;32mIn[258], line 1\u001b[0m\n\u001b[0;32m----> 1\u001b[0m {\u001b[38;5;241m1\u001b[39m:{\u001b[38;5;241m2\u001b[39m:{\u001b[38;5;241m3\u001b[39m:\u001b[38;5;241m4\u001b[39m}}}[\u001b[38;5;241m2\u001b[39m]\n",
      "\u001b[0;31mKeyError\u001b[0m: 2"
     ]
    }
   ],
   "source": [
    "{1:{2:{3:4}}}[2]"
   ]
  },
  {
   "cell_type": "code",
   "execution_count": 259,
   "id": "020f08a8",
   "metadata": {},
   "outputs": [
    {
     "data": {
      "text/plain": [
       "6"
      ]
     },
     "execution_count": 259,
     "metadata": {},
     "output_type": "execute_result"
    }
   ],
   "source": [
    "from functools import reduce\n",
    "reduce(max, map(abs, [-3,2,4,-6]))"
   ]
  },
  {
   "cell_type": "code",
   "execution_count": 260,
   "id": "6ee6d85a",
   "metadata": {},
   "outputs": [],
   "source": [
    "cond = a == 1"
   ]
  },
  {
   "cell_type": "code",
   "execution_count": 261,
   "id": "b737e57c",
   "metadata": {},
   "outputs": [
    {
     "data": {
      "text/plain": [
       "False"
      ]
     },
     "execution_count": 261,
     "metadata": {},
     "output_type": "execute_result"
    }
   ],
   "source": [
    "cond"
   ]
  },
  {
   "cell_type": "code",
   "execution_count": 262,
   "id": "0179369a",
   "metadata": {},
   "outputs": [
    {
     "data": {
      "text/plain": [
       "<__main__.A at 0x7fae1d62e650>"
      ]
     },
     "execution_count": 262,
     "metadata": {},
     "output_type": "execute_result"
    }
   ],
   "source": [
    "a"
   ]
  },
  {
   "cell_type": "code",
   "execution_count": 263,
   "id": "e8f7a04b",
   "metadata": {},
   "outputs": [
    {
     "data": {
      "text/plain": [
       "512"
      ]
     },
     "execution_count": 263,
     "metadata": {},
     "output_type": "execute_result"
    }
   ],
   "source": []
  },
  {
   "cell_type": "code",
   "execution_count": 265,
   "id": "2e70d4cf",
   "metadata": {},
   "outputs": [
    {
     "data": {
      "text/plain": [
       "8"
      ]
     },
     "execution_count": 265,
     "metadata": {},
     "output_type": "execute_result"
    }
   ],
   "source": []
  },
  {
   "cell_type": "code",
   "execution_count": 266,
   "id": "7f71fb98",
   "metadata": {},
   "outputs": [],
   "source": [
    "def vulnerable_password(password, max_ops):\n",
    "    n = len(password)\n",
    "    max_length = 0\n",
    "    left = 0\n",
    "\n",
    "    char_count = {}\n",
    "\n",
    "    for right in range(n):\n",
    "        char = password[right]\n",
    "        char_count[char] = char_count.get(char, 0) + 1\n",
    "\n",
    "        while (right - left + 1) - max(char_count.values()) > max_ops:\n",
    "            char_count[password[left]] -= 1\n",
    "            left += 1\n",
    "\n",
    "        max_length = max(max_length, right - left + 1)\n",
    "\n",
    "    return max_length\n"
   ]
  },
  {
   "cell_type": "code",
   "execution_count": 267,
   "id": "974c21dd",
   "metadata": {},
   "outputs": [
    {
     "data": {
      "text/plain": [
       "22"
      ]
     },
     "execution_count": 267,
     "metadata": {},
     "output_type": "execute_result"
    }
   ],
   "source": [
    "vulnerable_password('ababbabbbasdwadcbkajefcxxxxsadasiawjdoxssssssssss', 10)"
   ]
  },
  {
   "cell_type": "code",
   "execution_count": 268,
   "id": "577fca6a",
   "metadata": {},
   "outputs": [],
   "source": [
    "def vulnerable_password1(password, max_ops):\n",
    "    n = len(password)\n",
    "    max_length = 0\n",
    "    left = 0\n",
    "    char_count = {}\n",
    "    max_substring = \"\"\n",
    "\n",
    "    for right in range(n):\n",
    "        char = password[right]\n",
    "        char_count[char] = char_count.get(char, 0) + 1\n",
    "\n",
    "        while (right - left + 1) - max(char_count.values()) > max_ops:\n",
    "            char_count[password[left]] -= 1\n",
    "            left += 1\n",
    "\n",
    "        if right - left + 1 > max_length:\n",
    "            max_length = right - left + 1\n",
    "            max_substring = password[left:right+1]\n",
    "\n",
    "    return max_length, max_substring\n"
   ]
  },
  {
   "cell_type": "code",
   "execution_count": 275,
   "id": "afaaa386",
   "metadata": {},
   "outputs": [
    {
     "data": {
      "text/plain": [
       "(5, 'abbaa')"
      ]
     },
     "execution_count": 275,
     "metadata": {},
     "output_type": "execute_result"
    }
   ],
   "source": [
    "vulnerable_password1('abbaabc', 2)"
   ]
  },
  {
   "cell_type": "code",
   "execution_count": 1,
   "id": "4bc3a78f",
   "metadata": {
    "ExecuteTime": {
     "end_time": "2023-11-06T15:53:54.979707100Z",
     "start_time": "2023-11-06T15:53:54.968640400Z"
    }
   },
   "outputs": [
    {
     "data": {
      "text/plain": [
       "65"
      ]
     },
     "execution_count": 1,
     "metadata": {},
     "output_type": "execute_result"
    }
   ],
   "source": [
    "ord('A')"
   ]
  },
  {
   "cell_type": "code",
   "execution_count": null,
   "id": "a8e3700628270b37",
   "metadata": {
    "collapsed": false
   },
   "outputs": [],
   "source": []
  }
 ],
 "metadata": {
  "kernelspec": {
   "display_name": "Python 3 (ipykernel)",
   "language": "python",
   "name": "python3"
  },
  "language_info": {
   "codemirror_mode": {
    "name": "ipython",
    "version": 3
   },
   "file_extension": ".py",
   "mimetype": "text/x-python",
   "name": "python",
   "nbconvert_exporter": "python",
   "pygments_lexer": "ipython3",
   "version": "3.11.4"
  }
 },
 "nbformat": 4,
 "nbformat_minor": 5
}
